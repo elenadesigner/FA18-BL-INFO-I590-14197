{
 "cells": [
  {
   "cell_type": "code",
   "execution_count": 2,
   "metadata": {
    "collapsed": true
   },
   "outputs": [],
   "source": [
    "#Phase 2\n",
    "\n",
    "#Use KMeans algorithm (do not use column CLASS) \n",
    "\n",
    "import pandas as pd\n",
    "from pandas import read_csv\n",
    "import numpy as np\n",
    "import matplotlib.pyplot as plt\n",
    "\n",
    "#continue working with cleaned breast cancer data from the phase 1\n",
    "\n",
    "df = pd.read_csv(\"data/Breast-Cancer-Wisconsin.csv\") \n",
    "df[\"A7\"] = df[\"A7\"].replace('?', np.NaN) #Replace ? by NaN in column A7\n",
    "df[\"A7\"] = pd.to_numeric(df['A7']) #Apply pandas function pd.to_numeric() for column A7\n",
    "df = df.fillna(df[\"A7\"].mean(skipna=True)) #Replace NaN values with the mean of column A7"
   ]
  },
  {
   "cell_type": "code",
   "execution_count": 3,
   "metadata": {
    "collapsed": true
   },
   "outputs": [],
   "source": [
    "new_df = df.loc[:, 'A2':'A10'] #use only columns A2-A10"
   ]
  },
  {
   "cell_type": "code",
   "execution_count": 4,
   "metadata": {
    "collapsed": true
   },
   "outputs": [],
   "source": [
    "from sklearn.cluster import KMeans #import KMeans - use sklearn.cluster"
   ]
  },
  {
   "cell_type": "code",
   "execution_count": 5,
   "metadata": {
    "collapsed": true
   },
   "outputs": [],
   "source": [
    "#assign columns\n",
    "X = np.array(new_df)\n",
    "a2 = X[:,0]\n",
    "a3 = X[:,1]\n",
    "a4 = X[:,2]\n",
    "a5 = X[:,3]\n",
    "a6 = X[:,4]\n",
    "a7 = X[:,5]\n",
    "a8 = X[:,6]\n",
    "a9 = X[:,7]\n",
    "a10 = X[:,8]"
   ]
  },
  {
   "cell_type": "code",
   "execution_count": 6,
   "metadata": {
    "collapsed": true
   },
   "outputs": [],
   "source": [
    "model = KMeans(n_clusters=4) #create KMeans model for n_cluster = 4"
   ]
  },
  {
   "cell_type": "code",
   "execution_count": 7,
   "metadata": {},
   "outputs": [
    {
     "data": {
      "text/plain": [
       "KMeans(algorithm='auto', copy_x=True, init='k-means++', max_iter=300,\n",
       "    n_clusters=4, n_init=10, n_jobs=1, precompute_distances='auto',\n",
       "    random_state=None, tol=0.0001, verbose=0)"
      ]
     },
     "execution_count": 7,
     "metadata": {},
     "output_type": "execute_result"
    }
   ],
   "source": [
    "model.fit(X) # fit model to your data"
   ]
  },
  {
   "cell_type": "code",
   "execution_count": 8,
   "metadata": {},
   "outputs": [
    {
     "name": "stdout",
     "output_type": "stream",
     "text": [
      "[[ 7.46478873  7.02816901  6.67605634  4.1971831   5.53521127  3.45322005\n",
      "   5.38028169  6.81690141  2.30985915]\n",
      " [ 2.94493392  1.24449339  1.36563877  1.29295154  2.03964758  1.3514006\n",
      "   2.06167401  1.20044053  1.07709251]\n",
      " [ 6.7625      8.3875      8.425       7.75        6.775       9.2125\n",
      "   7.375       7.7375      3.7875    ]\n",
      " [ 7.23404255  4.85106383  5.04255319  4.86170213  4.11702128  9.38297872\n",
      "   5.26595745  3.78723404  1.64893617]]\n"
     ]
    }
   ],
   "source": [
    "centroids = model.cluster_centers_ #calculate centroids\n",
    "print(centroids) #print centroids - you should have a matrix with 4 row (4 clusters) and 9  columns (for each A column)"
   ]
  },
  {
   "cell_type": "code",
   "execution_count": 9,
   "metadata": {},
   "outputs": [
    {
     "data": {
      "image/png": "[encoded data removed]",
      "text/plain": [
       "<Figure size 432x288 with 1 Axes>"
      ]
     },
     "metadata": {},
     "output_type": "display_data"
    }
   ],
   "source": [
    "#Find the optimal number of clusters\n",
    "\n",
    "ks = range(1,15) #create a range from 1 to 15 or more\n",
    "\n",
    "inertias_values = [] #create an empty list for inertias values\n",
    "K = range(1,15) #create a range from 1 to 15 or more\n",
    "for k in K: #use for loop to calculate KMeans for each values\n",
    "    kmeanModel = KMeans(n_clusters=k).fit(X)\n",
    "    kmeanModel.fit(X)\n",
    "    inertias_values.append(kmeanModel.inertia_)\n",
    "    \n",
    "plt.plot(K, inertias_values, 'bx-') #plot range and inertia\n",
    "plt.grid(True)\n",
    "plt.xlabel('k')\n",
    "plt.ylabel('Inertias Values') #add title, ylabel, xlabel\n",
    "plt.title('Elbow Method For Optimal k')\n",
    "plt.show()\n"
   ]
  },
  {
   "cell_type": "code",
   "execution_count": 10,
   "metadata": {},
   "outputs": [
    {
     "name": "stdout",
     "output_type": "stream",
     "text": [
      "The optimal number of clustes based on the inertia plot is 2\n"
     ]
    }
   ],
   "source": [
    "print (\"The optimal number of clustes based on the inertia plot is 2\")"
   ]
  },
  {
   "cell_type": "code",
   "execution_count": 11,
   "metadata": {
    "collapsed": true
   },
   "outputs": [],
   "source": [
    "#Revise data variation"
   ]
  },
  {
   "cell_type": "code",
   "execution_count": 12,
   "metadata": {},
   "outputs": [
    {
     "data": {
      "image/png": "[encoded data removed]",
      "text/plain": [
       "<Figure size 432x288 with 1 Axes>"
      ]
     },
     "metadata": {},
     "output_type": "display_data"
    }
   ],
   "source": [
    "new_df_std = new_df.std ()#apply standard deviation function for columns A2-A10\n",
    "\n",
    "new_df_std.plot.bar() # plot standard deviation values\n",
    "plt.title('Standard Deviation Values')\n",
    "plt.xlabel('Categories')\n",
    "plt.ylabel('Values')\n",
    "plt.show()"
   ]
  },
  {
   "cell_type": "code",
   "execution_count": 13,
   "metadata": {},
   "outputs": [
    {
     "name": "stdout",
     "output_type": "stream",
     "text": [
      "A7 column has a lof of variation\n"
     ]
    }
   ],
   "source": [
    "print('A7 column has a lof of variation')#describe which features have a lot of data variation"
   ]
  },
  {
   "cell_type": "code",
   "execution_count": 14,
   "metadata": {
    "collapsed": true
   },
   "outputs": [],
   "source": [
    "#Implement normalization"
   ]
  },
  {
   "cell_type": "code",
   "execution_count": 15,
   "metadata": {
    "collapsed": true
   },
   "outputs": [],
   "source": [
    "from sklearn.pipeline import make_pipeline #import make_pipeline - use sklearn.pipeline\n",
    "from sklearn.preprocessing import StandardScaler #import StandardScaler\n",
    "from sklearn.cluster import KMeans"
   ]
  },
  {
   "cell_type": "code",
   "execution_count": 16,
   "metadata": {
    "collapsed": true
   },
   "outputs": [],
   "source": [
    "scaler = StandardScaler()\n",
    "kmeans = KMeans(n_clusters=2)\n",
    "pipeline = make_pipeline(scaler, kmeans) #create a pipeline"
   ]
  },
  {
   "cell_type": "code",
   "execution_count": 17,
   "metadata": {
    "collapsed": true
   },
   "outputs": [],
   "source": [
    "# Fit the pipeline to samples\n",
    "pipeline.fit(X)\n",
    "\n",
    "# Calculate the cluster labels: labels\n",
    "labels = pipeline.predict(X)"
   ]
  },
  {
   "cell_type": "code",
   "execution_count": 18,
   "metadata": {
    "collapsed": true
   },
   "outputs": [],
   "source": [
    "model2 = kmeans.fit(X) "
   ]
  },
  {
   "cell_type": "code",
   "execution_count": 19,
   "metadata": {},
   "outputs": [
    {
     "name": "stdout",
     "output_type": "stream",
     "text": [
      "[[ 3.0472103   1.30257511  1.44635193  1.34334764  2.08798283  1.38000113\n",
      "   2.10515021  1.26180258  1.10944206]\n",
      " [ 7.15879828  6.79828326  6.72961373  5.73390558  5.472103    7.87396553\n",
      "   6.10300429  6.07725322  2.54935622]]\n"
     ]
    }
   ],
   "source": [
    "print(model2.cluster_centers_) #find centroids and print them"
   ]
  },
  {
   "cell_type": "code",
   "execution_count": null,
   "metadata": {
    "collapsed": true
   },
   "outputs": [],
   "source": [
    "#Phase 3\n",
    "\n",
    "#Clusters - 5pts"
   ]
  },
  {
   "cell_type": "code",
   "execution_count": 29,
   "metadata": {
    "collapsed": true
   },
   "outputs": [],
   "source": [
    "kmeans = KMeans(n_clusters=2, n_init=20, max_iter=500) #Change iteration to 500 and initial centroids to 20"
   ]
  },
  {
   "cell_type": "code",
   "execution_count": 34,
   "metadata": {},
   "outputs": [
    {
     "data": {
      "text/plain": [
       "KMeans(algorithm='auto', copy_x=True, init='k-means++', max_iter=500,\n",
       "    n_clusters=2, n_init=20, n_jobs=1, precompute_distances='auto',\n",
       "    random_state=None, tol=0.0001, verbose=0)"
      ]
     },
     "execution_count": 34,
     "metadata": {},
     "output_type": "execute_result"
    }
   ],
   "source": [
    "kmeans.fit(X) "
   ]
  },
  {
   "cell_type": "code",
   "execution_count": 35,
   "metadata": {},
   "outputs": [
    {
     "name": "stdout",
     "output_type": "stream",
     "text": [
      "[[ 7.15879828  6.79828326  6.72961373  5.73390558  5.472103    7.87396553\n",
      "   6.10300429  6.07725322  2.54935622]\n",
      " [ 3.0472103   1.30257511  1.44635193  1.34334764  2.08798283  1.38000113\n",
      "   2.10515021  1.26180258  1.10944206]]\n"
     ]
    }
   ],
   "source": [
    "print(kmeans.cluster_centers_)"
   ]
  },
  {
   "cell_type": "code",
   "execution_count": 36,
   "metadata": {},
   "outputs": [],
   "source": [
    "labels = kmeans.fit_predict(X)#Save predicted clusters into a variable labels"
   ]
  },
  {
   "cell_type": "code",
   "execution_count": 38,
   "metadata": {},
   "outputs": [],
   "source": [
    "# DataFrame - 5pt"
   ]
  },
  {
   "cell_type": "code",
   "execution_count": 68,
   "metadata": {
    "collapsed": true
   },
   "outputs": [],
   "source": [
    "new_df['CLASS'] = df['CLASS']"
   ]
  },
  {
   "cell_type": "code",
   "execution_count": 69,
   "metadata": {},
   "outputs": [],
   "source": [
    "new_df['Kmean labels'] = labels #Create a new column in your dataframe and add Kmeans labels."
   ]
  },
  {
   "cell_type": "code",
   "execution_count": 70,
   "metadata": {},
   "outputs": [],
   "source": [
    "new_df['Kmean labels'] = new_df['Kmean labels'].replace(0, 2) #Change labels values so that 0 becomes 2"
   ]
  },
  {
   "cell_type": "code",
   "execution_count": 72,
   "metadata": {},
   "outputs": [],
   "source": [
    "new_df['Kmean labels'] = new_df['Kmean labels'].replace(1, 4) #Change labels values so that 1 becomes 4"
   ]
  },
  {
   "cell_type": "code",
   "execution_count": 73,
   "metadata": {},
   "outputs": [
    {
     "data": {
      "text/html": [
       "<div>\n",
       "<style>\n",
       "    .dataframe thead tr:only-child th {\n",
       "        text-align: right;\n",
       "    }\n",
       "\n",
       "    .dataframe thead th {\n",
       "        text-align: left;\n",
       "    }\n",
       "\n",
       "    .dataframe tbody tr th {\n",
       "        vertical-align: top;\n",
       "    }\n",
       "</style>\n",
       "<table border=\"1\" class=\"dataframe\">\n",
       "  <thead>\n",
       "    <tr style=\"text-align: right;\">\n",
       "      <th></th>\n",
       "      <th>A2</th>\n",
       "      <th>A3</th>\n",
       "      <th>A4</th>\n",
       "      <th>A5</th>\n",
       "      <th>A6</th>\n",
       "      <th>A7</th>\n",
       "      <th>A8</th>\n",
       "      <th>A9</th>\n",
       "      <th>A10</th>\n",
       "      <th>Kmean labels</th>\n",
       "      <th>CLASS</th>\n",
       "    </tr>\n",
       "  </thead>\n",
       "  <tbody>\n",
       "    <tr>\n",
       "      <th>0</th>\n",
       "      <td>5</td>\n",
       "      <td>1</td>\n",
       "      <td>1</td>\n",
       "      <td>1</td>\n",
       "      <td>2</td>\n",
       "      <td>1.0</td>\n",
       "      <td>3</td>\n",
       "      <td>1</td>\n",
       "      <td>1</td>\n",
       "      <td>2</td>\n",
       "      <td>2</td>\n",
       "    </tr>\n",
       "    <tr>\n",
       "      <th>1</th>\n",
       "      <td>5</td>\n",
       "      <td>4</td>\n",
       "      <td>4</td>\n",
       "      <td>5</td>\n",
       "      <td>7</td>\n",
       "      <td>10.0</td>\n",
       "      <td>3</td>\n",
       "      <td>2</td>\n",
       "      <td>1</td>\n",
       "      <td>4</td>\n",
       "      <td>2</td>\n",
       "    </tr>\n",
       "    <tr>\n",
       "      <th>2</th>\n",
       "      <td>3</td>\n",
       "      <td>1</td>\n",
       "      <td>1</td>\n",
       "      <td>1</td>\n",
       "      <td>2</td>\n",
       "      <td>2.0</td>\n",
       "      <td>3</td>\n",
       "      <td>1</td>\n",
       "      <td>1</td>\n",
       "      <td>2</td>\n",
       "      <td>2</td>\n",
       "    </tr>\n",
       "    <tr>\n",
       "      <th>3</th>\n",
       "      <td>6</td>\n",
       "      <td>8</td>\n",
       "      <td>8</td>\n",
       "      <td>1</td>\n",
       "      <td>3</td>\n",
       "      <td>4.0</td>\n",
       "      <td>3</td>\n",
       "      <td>7</td>\n",
       "      <td>1</td>\n",
       "      <td>4</td>\n",
       "      <td>2</td>\n",
       "    </tr>\n",
       "    <tr>\n",
       "      <th>4</th>\n",
       "      <td>4</td>\n",
       "      <td>1</td>\n",
       "      <td>1</td>\n",
       "      <td>3</td>\n",
       "      <td>2</td>\n",
       "      <td>1.0</td>\n",
       "      <td>3</td>\n",
       "      <td>1</td>\n",
       "      <td>1</td>\n",
       "      <td>2</td>\n",
       "      <td>2</td>\n",
       "    </tr>\n",
       "    <tr>\n",
       "      <th>5</th>\n",
       "      <td>8</td>\n",
       "      <td>10</td>\n",
       "      <td>10</td>\n",
       "      <td>8</td>\n",
       "      <td>7</td>\n",
       "      <td>10.0</td>\n",
       "      <td>9</td>\n",
       "      <td>7</td>\n",
       "      <td>1</td>\n",
       "      <td>4</td>\n",
       "      <td>4</td>\n",
       "    </tr>\n",
       "    <tr>\n",
       "      <th>6</th>\n",
       "      <td>1</td>\n",
       "      <td>1</td>\n",
       "      <td>1</td>\n",
       "      <td>1</td>\n",
       "      <td>2</td>\n",
       "      <td>10.0</td>\n",
       "      <td>3</td>\n",
       "      <td>1</td>\n",
       "      <td>1</td>\n",
       "      <td>2</td>\n",
       "      <td>2</td>\n",
       "    </tr>\n",
       "    <tr>\n",
       "      <th>7</th>\n",
       "      <td>2</td>\n",
       "      <td>1</td>\n",
       "      <td>2</td>\n",
       "      <td>1</td>\n",
       "      <td>2</td>\n",
       "      <td>1.0</td>\n",
       "      <td>3</td>\n",
       "      <td>1</td>\n",
       "      <td>1</td>\n",
       "      <td>2</td>\n",
       "      <td>2</td>\n",
       "    </tr>\n",
       "    <tr>\n",
       "      <th>8</th>\n",
       "      <td>2</td>\n",
       "      <td>1</td>\n",
       "      <td>1</td>\n",
       "      <td>1</td>\n",
       "      <td>2</td>\n",
       "      <td>1.0</td>\n",
       "      <td>1</td>\n",
       "      <td>1</td>\n",
       "      <td>5</td>\n",
       "      <td>2</td>\n",
       "      <td>2</td>\n",
       "    </tr>\n",
       "    <tr>\n",
       "      <th>9</th>\n",
       "      <td>4</td>\n",
       "      <td>2</td>\n",
       "      <td>1</td>\n",
       "      <td>1</td>\n",
       "      <td>2</td>\n",
       "      <td>1.0</td>\n",
       "      <td>2</td>\n",
       "      <td>1</td>\n",
       "      <td>1</td>\n",
       "      <td>2</td>\n",
       "      <td>2</td>\n",
       "    </tr>\n",
       "    <tr>\n",
       "      <th>10</th>\n",
       "      <td>1</td>\n",
       "      <td>1</td>\n",
       "      <td>1</td>\n",
       "      <td>1</td>\n",
       "      <td>1</td>\n",
       "      <td>1.0</td>\n",
       "      <td>3</td>\n",
       "      <td>1</td>\n",
       "      <td>1</td>\n",
       "      <td>2</td>\n",
       "      <td>2</td>\n",
       "    </tr>\n",
       "    <tr>\n",
       "      <th>11</th>\n",
       "      <td>2</td>\n",
       "      <td>1</td>\n",
       "      <td>1</td>\n",
       "      <td>1</td>\n",
       "      <td>2</td>\n",
       "      <td>1.0</td>\n",
       "      <td>2</td>\n",
       "      <td>1</td>\n",
       "      <td>1</td>\n",
       "      <td>2</td>\n",
       "      <td>2</td>\n",
       "    </tr>\n",
       "    <tr>\n",
       "      <th>12</th>\n",
       "      <td>5</td>\n",
       "      <td>3</td>\n",
       "      <td>3</td>\n",
       "      <td>3</td>\n",
       "      <td>2</td>\n",
       "      <td>3.0</td>\n",
       "      <td>4</td>\n",
       "      <td>4</td>\n",
       "      <td>1</td>\n",
       "      <td>2</td>\n",
       "      <td>4</td>\n",
       "    </tr>\n",
       "    <tr>\n",
       "      <th>13</th>\n",
       "      <td>1</td>\n",
       "      <td>1</td>\n",
       "      <td>1</td>\n",
       "      <td>1</td>\n",
       "      <td>2</td>\n",
       "      <td>3.0</td>\n",
       "      <td>3</td>\n",
       "      <td>1</td>\n",
       "      <td>1</td>\n",
       "      <td>2</td>\n",
       "      <td>2</td>\n",
       "    </tr>\n",
       "    <tr>\n",
       "      <th>14</th>\n",
       "      <td>8</td>\n",
       "      <td>7</td>\n",
       "      <td>5</td>\n",
       "      <td>10</td>\n",
       "      <td>7</td>\n",
       "      <td>9.0</td>\n",
       "      <td>5</td>\n",
       "      <td>5</td>\n",
       "      <td>4</td>\n",
       "      <td>4</td>\n",
       "      <td>4</td>\n",
       "    </tr>\n",
       "  </tbody>\n",
       "</table>\n",
       "</div>"
      ],
      "text/plain": [
       "    A2  A3  A4  A5  A6    A7  A8  A9  A10  Kmean labels  CLASS\n",
       "0    5   1   1   1   2   1.0   3   1    1             2      2\n",
       "1    5   4   4   5   7  10.0   3   2    1             4      2\n",
       "2    3   1   1   1   2   2.0   3   1    1             2      2\n",
       "3    6   8   8   1   3   4.0   3   7    1             4      2\n",
       "4    4   1   1   3   2   1.0   3   1    1             2      2\n",
       "5    8  10  10   8   7  10.0   9   7    1             4      4\n",
       "6    1   1   1   1   2  10.0   3   1    1             2      2\n",
       "7    2   1   2   1   2   1.0   3   1    1             2      2\n",
       "8    2   1   1   1   2   1.0   1   1    5             2      2\n",
       "9    4   2   1   1   2   1.0   2   1    1             2      2\n",
       "10   1   1   1   1   1   1.0   3   1    1             2      2\n",
       "11   2   1   1   1   2   1.0   2   1    1             2      2\n",
       "12   5   3   3   3   2   3.0   4   4    1             2      4\n",
       "13   1   1   1   1   2   3.0   3   1    1             2      2\n",
       "14   8   7   5  10   7   9.0   5   5    4             4      4"
      ]
     },
     "execution_count": 73,
     "metadata": {},
     "output_type": "execute_result"
    }
   ],
   "source": [
    "new_df.head(15)#Print the first 15 records from your dataframe"
   ]
  },
  {
   "cell_type": "code",
   "execution_count": 127,
   "metadata": {},
   "outputs": [],
   "source": [
    "#Error Rate Function - 15 pts\n",
    "\n",
    "#Note: 2 - benign cells; 4 - malign cells\n",
    "\n",
    "# Error for benign cells\n",
    "\n",
    "predicted_labels = new_df['Kmean labels'].value_counts() \n",
    "actual_class_labels = new_df['CLASS'].value_counts() \n",
    "\n",
    "\n",
    "predicted_labels_4 = predicted_labels[4] #total number of points with predicted labels = 4"
   ]
  },
  {
   "cell_type": "code",
   "execution_count": 84,
   "metadata": {},
   "outputs": [
    {
     "name": "stdout",
     "output_type": "stream",
     "text": [
      "Total number of points with predicted labels '4' is:  233\n"
     ]
    }
   ],
   "source": [
    "print (\"Total number of points with predicted labels '4' is: \",predicted_labels_4)"
   ]
  },
  {
   "cell_type": "code",
   "execution_count": 79,
   "metadata": {},
   "outputs": [],
   "source": [
    "labels_class = new_df.groupby('Kmean labels')['CLASS'].value_counts()"
   ]
  },
  {
   "cell_type": "code",
   "execution_count": 87,
   "metadata": {},
   "outputs": [],
   "source": [
    "B = labels_class[4][2] # B = total number of points with predicted labels = 4 that correspond to CLASS = 2"
   ]
  },
  {
   "cell_type": "code",
   "execution_count": 88,
   "metadata": {},
   "outputs": [
    {
     "name": "stdout",
     "output_type": "stream",
     "text": [
      "Total number of points with predicted labels '4' that correspond to CLASS '2' is:  11\n"
     ]
    }
   ],
   "source": [
    "print (\"Total number of points with predicted labels '4' that correspond to CLASS '2' is: \",B)"
   ]
  },
  {
   "cell_type": "code",
   "execution_count": 89,
   "metadata": {
    "collapsed": true
   },
   "outputs": [],
   "source": [
    "predicted_labels_2 = predicted_labels[2] #total number of points with predicted labels = 4#total number of predicted labels = 2"
   ]
  },
  {
   "cell_type": "code",
   "execution_count": 90,
   "metadata": {},
   "outputs": [
    {
     "name": "stdout",
     "output_type": "stream",
     "text": [
      "Total number of points with predicted labels '2' is:  466\n"
     ]
    }
   ],
   "source": [
    "print (\"Total number of points with predicted labels '2' is: \",predicted_labels_2)"
   ]
  },
  {
   "cell_type": "code",
   "execution_count": 92,
   "metadata": {},
   "outputs": [],
   "source": [
    "error_B = B / predicted_labels_2 #total number of points with predicted labels = 4 that correspond to CLASS = 2 / total number of predicted labels = 2"
   ]
  },
  {
   "cell_type": "code",
   "execution_count": 95,
   "metadata": {},
   "outputs": [],
   "source": [
    "#Error for malign cells\n",
    "\n",
    "M = labels_class[2][4] #total number of points with predicted labels = 2 that correspond to CLASS = 4 \n",
    "error_M = M/predicted_labels_4 #total number of points with predicted labels = 2 that correspond to CLASS = 4 / total number of predicted labels = 4"
   ]
  },
  {
   "cell_type": "code",
   "execution_count": 140,
   "metadata": {},
   "outputs": [
    {
     "name": "stdout",
     "output_type": "stream",
     "text": [
      "Error rate for benign: 0.0236051502146 , Error rate for malign: 0.0815450643777 , Total error rate: 0.0429184549356\n"
     ]
    }
   ],
   "source": [
    "#Total error rate\n",
    "total_data_points = sum(labels_class)\n",
    "T = (M + B) #total number of datapoints with predicted labels (labels column) Not equal to actual class \n",
    "total_error_rate = T / total_data_points #total number of datapoints with predicted labels Not equal to (CLASS column) / total number of datapoints\n",
    "\n",
    "print(\"Error rate for benign:\", error_B,\", Error rate for malign:\", error_M, \", Total error rate:\",total_error_rate ) # print out the error rate values."
   ]
  },
  {
   "cell_type": "code",
   "execution_count": null,
   "metadata": {
    "collapsed": true
   },
   "outputs": [],
   "source": [
    "#Report - 5pts\n",
    "\n",
    "#Add your report statement (~150-200 words): your reflection on the final project results"
   ]
  }
 ],
 "metadata": {
  "kernelspec": {
   "display_name": "Python 3",
   "language": "python",
   "name": "python3"
  },
  "language_info": {
   "codemirror_mode": {
    "name": "ipython",
    "version": 3
   },
   "file_extension": ".py",
   "mimetype": "text/x-python",
   "name": "python",
   "nbconvert_exporter": "python",
   "pygments_lexer": "ipython3",
   "version": "3.6.1"
  }
 },
 "nbformat": 4,
 "nbformat_minor": 2
}
