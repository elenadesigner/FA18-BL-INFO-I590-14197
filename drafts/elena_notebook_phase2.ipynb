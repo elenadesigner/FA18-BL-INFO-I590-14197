{
 "cells": [
  {
   "cell_type": "code",
   "execution_count": 9,
   "metadata": {
    "collapsed": true
   },
   "outputs": [],
   "source": [
    "#Phase 2\n",
    "\n",
    "#Use KMeans algorithm (do not use column CLASS) \n",
    "\n",
    "import pandas as pd\n",
    "from pandas import read_csv\n",
    "import numpy as np\n",
    "import matplotlib.pyplot as plt\n",
    "\n",
    "#continue working with cleaned breast cancer data from the phase 1\n",
    "\n",
    "df = pd.read_csv(\"data/Breast-Cancer-Wisconsin.csv\") \n",
    "df[\"A7\"] = df[\"A7\"].replace('?', np.NaN) #Replace ? by NaN in column A7\n",
    "df[\"A7\"] = pd.to_numeric(df['A7']) #Apply pandas function pd.to_numeric() for column A7\n",
    "df = df.fillna(df[\"A7\"].mean(skipna=True)) #Replace NaN values with the mean of column A7"
   ]
  },
  {
   "cell_type": "code",
   "execution_count": 10,
   "metadata": {
    "collapsed": true
   },
   "outputs": [],
   "source": [
    "new_df = df.loc[:, 'A2':'A10'] #use only columns A2-A10"
   ]
  },
  {
   "cell_type": "code",
   "execution_count": 11,
   "metadata": {
    "collapsed": true
   },
   "outputs": [],
   "source": [
    "from sklearn.cluster import KMeans #import KMeans - use sklearn.cluster"
   ]
  },
  {
   "cell_type": "code",
   "execution_count": 12,
   "metadata": {
    "collapsed": true
   },
   "outputs": [],
   "source": [
    "#assign columns\n",
    "X = np.array(new_df)\n",
    "a2 = X[:,0]\n",
    "a3 = X[:,1]\n",
    "a4 = X[:,2]\n",
    "a5 = X[:,3]\n",
    "a6 = X[:,4]\n",
    "a7 = X[:,5]\n",
    "a8 = X[:,6]\n",
    "a9 = X[:,7]\n",
    "a10 = X[:,8]"
   ]
  },
  {
   "cell_type": "code",
   "execution_count": 13,
   "metadata": {
    "collapsed": true
   },
   "outputs": [],
   "source": [
    "model = KMeans(n_clusters=4) #create KMeans model for n_cluster = 4"
   ]
  },
  {
   "cell_type": "code",
   "execution_count": 14,
   "metadata": {},
   "outputs": [
    {
     "data": {
      "text/plain": [
       "KMeans(algorithm='auto', copy_x=True, init='k-means++', max_iter=300,\n",
       "    n_clusters=4, n_init=10, n_jobs=1, precompute_distances='auto',\n",
       "    random_state=None, tol=0.0001, verbose=0)"
      ]
     },
     "execution_count": 14,
     "metadata": {},
     "output_type": "execute_result"
    }
   ],
   "source": [
    "model.fit(X) # fit model to your data"
   ]
  },
  {
   "cell_type": "code",
   "execution_count": 15,
   "metadata": {},
   "outputs": [
    {
     "name": "stdout",
     "output_type": "stream",
     "text": [
      "[[ 2.94493392  1.24449339  1.36563877  1.29295154  2.03964758  1.3514006\n",
      "   2.06167401  1.20044053  1.07709251]\n",
      " [ 7.27083333  4.85416667  5.03125     4.78125     4.08333333  9.26609017\n",
      "   5.26041667  3.76041667  1.65625   ]\n",
      " [ 6.7625      8.3875      8.425       7.75        6.775       9.2125\n",
      "   7.375       7.7375      3.7875    ]\n",
      " [ 7.42028986  7.08695652  6.73913043  4.28985507  5.62318841  3.44397055\n",
      "   5.39130435  6.94202899  2.31884058]]\n"
     ]
    }
   ],
   "source": [
    "centroids = model.cluster_centers_ #calculate centroids\n",
    "print(centroids) #print centroids - you should have a matrix with 4 row (4 clusters) and 9  columns (for each A column)"
   ]
  },
  {
   "cell_type": "code",
   "execution_count": 16,
   "metadata": {},
   "outputs": [
    {
     "data": {
      "image/png": "[encoded data removed]",
      "text/plain": [
       "<matplotlib.figure.Figure at 0x11ac1c7b8>"
      ]
     },
     "metadata": {},
     "output_type": "display_data"
    }
   ],
   "source": [
    "#Find the optimal number of clusters\n",
    "\n",
    "ks = range(1,15) #create a range from 1 to 15 or more\n",
    "\n",
    "inertias_values = [] #create an empty list for inertias values\n",
    "K = range(1,15) #create a range from 1 to 15 or more\n",
    "for k in K: #use for loop to calculate KMeans for each values\n",
    "    kmeanModel = KMeans(n_clusters=k).fit(X)\n",
    "    kmeanModel.fit(X)\n",
    "    inertias_values.append(kmeanModel.inertia_)\n",
    "    \n",
    "plt.plot(K, inertias_values, 'bx-') #plot range and inertia\n",
    "plt.grid(True)\n",
    "plt.xlabel('k')\n",
    "plt.ylabel('Inertias Values') #add title, ylabel, xlabel\n",
    "plt.title('Elbow Method For Optimal k')\n",
    "plt.show()\n"
   ]
  },
  {
   "cell_type": "code",
   "execution_count": 17,
   "metadata": {},
   "outputs": [
    {
     "name": "stdout",
     "output_type": "stream",
     "text": [
      "The optimal number of clustes based on the inertia plot is 2\n"
     ]
    }
   ],
   "source": [
    "print (\"The optimal number of clustes based on the inertia plot is 2\")"
   ]
  },
  {
   "cell_type": "code",
   "execution_count": 18,
   "metadata": {
    "collapsed": true
   },
   "outputs": [],
   "source": [
    "#Revise data variation"
   ]
  },
  {
   "cell_type": "code",
   "execution_count": 19,
   "metadata": {},
   "outputs": [
    {
     "data": {
      "image/png": "[encoded data removed]",
      "text/plain": [
       "<matplotlib.figure.Figure at 0x11ac1c6d8>"
      ]
     },
     "metadata": {},
     "output_type": "display_data"
    }
   ],
   "source": [
    "new_df_std = new_df.std ()#apply standard deviation function for columns A2-A10\n",
    "\n",
    "new_df_std.plot.bar() # plot standard deviation values\n",
    "plt.title('Standard Deviation Values')\n",
    "plt.xlabel('Categories')\n",
    "plt.ylabel('Values')\n",
    "plt.show()"
   ]
  },
  {
   "cell_type": "code",
   "execution_count": 20,
   "metadata": {},
   "outputs": [
    {
     "name": "stdout",
     "output_type": "stream",
     "text": [
      "A7 column has a lof of variation\n"
     ]
    }
   ],
   "source": [
    "print('A7 column has a lof of variation')#describe which features have a lot of data variation"
   ]
  },
  {
   "cell_type": "code",
   "execution_count": null,
   "metadata": {
    "collapsed": true
   },
   "outputs": [],
   "source": [
    "#Implement normalization"
   ]
  },
  {
   "cell_type": "code",
   "execution_count": 21,
   "metadata": {
    "collapsed": true
   },
   "outputs": [],
   "source": [
    "from sklearn.pipeline import make_pipeline #import make_pipeline - use sklearn.pipeline\n",
    "from sklearn.preprocessing import StandardScaler #import StandardScaler\n",
    "from sklearn.cluster import KMeans"
   ]
  },
  {
   "cell_type": "code",
   "execution_count": 22,
   "metadata": {
    "collapsed": true
   },
   "outputs": [],
   "source": [
    "scaler = StandardScaler()\n",
    "kmeans = KMeans(n_clusters=2)\n",
    "pipeline = make_pipeline(scaler, kmeans) #create a pipeline"
   ]
  },
  {
   "cell_type": "code",
   "execution_count": 23,
   "metadata": {
    "collapsed": true
   },
   "outputs": [],
   "source": [
    "# Fit the pipeline to samples\n",
    "pipeline.fit(X)\n",
    "\n",
    "# Calculate the cluster labels: labels\n",
    "labels = pipeline.predict(X)"
   ]
  },
  {
   "cell_type": "code",
   "execution_count": 24,
   "metadata": {
    "collapsed": true
   },
   "outputs": [],
   "source": [
    "model2 = kmeans.fit(X) "
   ]
  },
  {
   "cell_type": "code",
   "execution_count": 25,
   "metadata": {},
   "outputs": [
    {
     "name": "stdout",
     "output_type": "stream",
     "text": [
      "[[ 3.0472103   1.30257511  1.44635193  1.34334764  2.08798283  1.38000113\n",
      "   2.10515021  1.26180258  1.10944206]\n",
      " [ 7.15879828  6.79828326  6.72961373  5.73390558  5.472103    7.87396553\n",
      "   6.10300429  6.07725322  2.54935622]]\n"
     ]
    }
   ],
   "source": [
    "print(model2.cluster_centers_) #find centroids and print them"
   ]
  },
  {
   "cell_type": "code",
   "execution_count": null,
   "metadata": {
    "collapsed": true
   },
   "outputs": [],
   "source": []
  }
 ],
 "metadata": {
  "kernelspec": {
   "display_name": "Python 3",
   "language": "python",
   "name": "python3"
  },
  "language_info": {
   "codemirror_mode": {
    "name": "ipython",
    "version": 3
   },
   "file_extension": ".py",
   "mimetype": "text/x-python",
   "name": "python",
   "nbconvert_exporter": "python",
   "pygments_lexer": "ipython3",
   "version": "3.6.1"
  }
 },
 "nbformat": 4,
 "nbformat_minor": 2
}
