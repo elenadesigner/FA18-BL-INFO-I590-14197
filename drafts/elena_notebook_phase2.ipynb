{
 "cells": [
  {
   "cell_type": "code",
   "execution_count": 1,
   "metadata": {
    "collapsed": true
   },
   "outputs": [],
   "source": [
    "#Phase 2\n",
    "\n",
    "#Use KMeans algorithm (do not use column CLASS) \n",
    "\n",
    "import pandas as pd\n",
    "from pandas import read_csv\n",
    "import numpy as np\n",
    "import matplotlib.pyplot as plt\n",
    "\n",
    "#continue working with cleaned breast cancer data from the phase 1\n",
    "\n",
    "df = pd.read_csv(\"data/Breast-Cancer-Wisconsin.csv\") \n",
    "df[\"A7\"] = df[\"A7\"].replace('?', np.NaN) #Replace ? by NaN in column A7\n",
    "df[\"A7\"] = pd.to_numeric(df['A7']) #Apply pandas function pd.to_numeric() for column A7\n",
    "df = df.fillna(df[\"A7\"].mean(skipna=True)) #Replace NaN values with the mean of column A7"
   ]
  },
  {
   "cell_type": "code",
   "execution_count": 2,
   "metadata": {
    "collapsed": true
   },
   "outputs": [],
   "source": [
    "new_df = df.loc[:, 'A2':'A10'] #use only columns A2-A10"
   ]
  },
  {
   "cell_type": "code",
   "execution_count": 3,
   "metadata": {
    "collapsed": true
   },
   "outputs": [],
   "source": [
    "from sklearn.cluster import KMeans #import KMeans - use sklearn.cluster"
   ]
  },
  {
   "cell_type": "code",
   "execution_count": 70,
   "metadata": {},
   "outputs": [],
   "source": [
    "#assign columns\n",
    "X = np.array(new_df)\n",
    "a2 = X[:,0]\n",
    "a3 = X[:,1]\n",
    "a4 = X[:,2]\n",
    "a5 = X[:,3]\n",
    "a6 = X[:,4]\n",
    "a7 = X[:,5]\n",
    "a8 = X[:,6]\n",
    "a9 = X[:,7]\n",
    "a10 = X[:,8]"
   ]
  },
  {
   "cell_type": "code",
   "execution_count": 64,
   "metadata": {
    "collapsed": true
   },
   "outputs": [],
   "source": [
    "model = KMeans(n_clusters=4) #create KMeans model for n_cluster = 4"
   ]
  },
  {
   "cell_type": "code",
   "execution_count": 106,
   "metadata": {},
   "outputs": [
    {
     "data": {
      "text/plain": [
       "KMeans(algorithm='auto', copy_x=True, init='k-means++', max_iter=300,\n",
       "    n_clusters=14, n_init=10, n_jobs=1, precompute_distances='auto',\n",
       "    random_state=None, tol=0.0001, verbose=0)"
      ]
     },
     "execution_count": 106,
     "metadata": {},
     "output_type": "execute_result"
    }
   ],
   "source": [
    "model.fit(X) # fit model to your data"
   ]
  },
  {
   "cell_type": "code",
   "execution_count": 108,
   "metadata": {},
   "outputs": [
    {
     "name": "stdout",
     "output_type": "stream",
     "text": [
      "[[  1.79487179   1.12454212   1.21978022   1.14652015   1.97802198\n",
      "    1.33496908   2.01098901   1.07692308   1.07326007]\n",
      " [  4.23076923   6.88461538   6.88461538   7.61538462   5.73076923\n",
      "    9.26923077   6.76923077   8.38461538   1.96153846]\n",
      " [  6.35897436   3.92307692   4.48717949   3.02564103   4.02564103\n",
      "    9.23076923   4.48717949   3.           1.33333333]\n",
      " [  8.46428571   5.10714286   5.82142857   3.5          4.25         9.10714286\n",
      "    6.5          8.35714286   2.        ]\n",
      " [  8.125        8.70833333   8.29166667   4.33333333   6.70833333   9.375\n",
      "    6.33333333   1.83333333   1.66666667]\n",
      " [  7.36363636   9.63636364   9.81818182   9.09090909   6.59090909\n",
      "    9.81818182   7.86363636   8.54545455   2.95454545]\n",
      " [  6.96         4.52         4.24         9.32         4.52         9.68\n",
      "    5.64         3.72         2.48      ]\n",
      " [  7.42857143   7.19047619   6.52380952   2.47619048   5.47619048\n",
      "    3.09949104   4.23809524   8.52380952   1.80952381]\n",
      " [  8.63157895   3.68421053   4.42105263   2.15789474   3.21052632\n",
      "    3.39708715   4.21052632   2.57894737   2.94736842]\n",
      " [  7.17391304   8.65217391   8.17391304   6.47826087   5.17391304\n",
      "    3.4584633    7.95652174   7.73913043   1.47826087]\n",
      " [  7.6         10.           8.4          9.6          9.4          3.\n",
      "    7.8          8.8          9.        ]\n",
      " [  8.           8.92307692   8.76923077   6.23076923   8.23076923\n",
      "    9.07692308   6.07692308   8.30769231   9.15384615]\n",
      " [  6.42857143   6.71428571   5.57142857   9.28571429   7.14285714\n",
      "    1.85714286   3.42857143   2.57142857   2.57142857]\n",
      " [  4.59770115   1.3908046    1.53448276   1.50574713   2.09770115\n",
      "    1.25913398   2.07471264   1.37931034   1.04597701]]\n"
     ]
    }
   ],
   "source": [
    "centroids = model.cluster_centers_ #calculate centroids\n",
    "print(centroids) #print centroids - you should have a matrix with 4 row (4 clusters) and 9  columns (for each A column)"
   ]
  },
  {
   "cell_type": "code",
   "execution_count": 123,
   "metadata": {},
   "outputs": [
    {
     "data": {
      "image/png": "[encoded data removed]",
      "text/plain": [
       "<matplotlib.figure.Figure at 0x118a3b0f0>"
      ]
     },
     "metadata": {},
     "output_type": "display_data"
    }
   ],
   "source": [
    "#Find the optimal number of clusters\n",
    "\n",
    "ks = range(1,15) #create a range from 1 to 15 or more\n",
    "\n",
    "inertias_values = [] #create an empty list for inertias values\n",
    "K = range(1,15) #create a range from 1 to 15 or more\n",
    "for k in K: #use for loop to calculate KMeans for each values\n",
    "    kmeanModel = KMeans(n_clusters=k).fit(X)\n",
    "    kmeanModel.fit(X)\n",
    "    inertias_values.append(kmeanModel.inertia_)\n",
    "    \n",
    "plt.plot(K, inertias_values, 'bx-') #plot range and inertia\n",
    "plt.grid(True)\n",
    "plt.xlabel('k')\n",
    "plt.ylabel('Inertias Values') #add title, ylabel, xlabel\n",
    "plt.title('Elbow Method For Optimal k')\n",
    "plt.show()\n"
   ]
  },
  {
   "cell_type": "code",
   "execution_count": null,
   "metadata": {
    "collapsed": true
   },
   "outputs": [],
   "source": [
    "print (\"The optimal number of clustes based on the inertia plot is 3\")"
   ]
  },
  {
   "cell_type": "code",
   "execution_count": null,
   "metadata": {
    "collapsed": true
   },
   "outputs": [],
   "source": [
    "#Revise data variation"
   ]
  },
  {
   "cell_type": "code",
   "execution_count": 125,
   "metadata": {},
   "outputs": [
    {
     "data": {
      "image/png": "[encoded data removed]",
      "text/plain": [
       "<matplotlib.figure.Figure at 0x118702cf8>"
      ]
     },
     "metadata": {},
     "output_type": "display_data"
    }
   ],
   "source": [
    "new_df_std = new_df.std ()#apply standard deviation function for columns A2-A10\n",
    "\n",
    "new_df_std.plot.bar() # plot standard deviation values\n",
    "plt.title('Standard Deviation Values')\n",
    "plt.xlabel('Categories')\n",
    "plt.ylabel('Values')\n",
    "plt.show()"
   ]
  },
  {
   "cell_type": "code",
   "execution_count": 126,
   "metadata": {},
   "outputs": [
    {
     "name": "stdout",
     "output_type": "stream",
     "text": [
      "A7 column has a lof of variation\n"
     ]
    }
   ],
   "source": [
    "print('A7 column has a lof of variation')#describe which features have a lot of data variation"
   ]
  },
  {
   "cell_type": "code",
   "execution_count": null,
   "metadata": {
    "collapsed": true
   },
   "outputs": [],
   "source": [
    "#Implement normalization"
   ]
  },
  {
   "cell_type": "code",
   "execution_count": 89,
   "metadata": {
    "collapsed": true
   },
   "outputs": [],
   "source": [
    "from sklearn.pipeline import make_pipeline #import make_pipeline - use sklearn.pipeline\n",
    "from sklearn.preprocessing import StandardScaler #import StandardScaler\n",
    "from sklearn.cluster import KMeans"
   ]
  },
  {
   "cell_type": "code",
   "execution_count": 95,
   "metadata": {},
   "outputs": [],
   "source": [
    "scaler = StandardScaler()\n",
    "kmeans = KMeans(n_clusters=2)\n",
    "pipeline = make_pipeline(scaler, kmeans) #create a pipeline"
   ]
  },
  {
   "cell_type": "code",
   "execution_count": 96,
   "metadata": {},
   "outputs": [],
   "source": [
    "# Fit the pipeline to samples\n",
    "pipeline.fit(X)\n",
    "\n",
    "# Calculate the cluster labels: labels\n",
    "labels = pipeline.predict(X)"
   ]
  },
  {
   "cell_type": "code",
   "execution_count": 131,
   "metadata": {},
   "outputs": [],
   "source": [
    "model2 = kmeans.fit(X) "
   ]
  },
  {
   "cell_type": "code",
   "execution_count": 132,
   "metadata": {},
   "outputs": [
    {
     "name": "stdout",
     "output_type": "stream",
     "text": [
      "[[ 3.0472103   1.30257511  1.44635193  1.34334764  2.08798283  1.38000113\n",
      "   2.10515021  1.26180258  1.10944206]\n",
      " [ 7.15879828  6.79828326  6.72961373  5.73390558  5.472103    7.87396553\n",
      "   6.10300429  6.07725322  2.54935622]]\n"
     ]
    }
   ],
   "source": [
    "print(model2.cluster_centers_) #find centroids and print them"
   ]
  }
 ],
 "metadata": {
  "kernelspec": {
   "display_name": "Python 3",
   "language": "python",
   "name": "python3"
  },
  "language_info": {
   "codemirror_mode": {
    "name": "ipython",
    "version": 3
   },
   "file_extension": ".py",
   "mimetype": "text/x-python",
   "name": "python",
   "nbconvert_exporter": "python",
   "pygments_lexer": "ipython3",
   "version": "3.6.1"
  }
 },
 "nbformat": 4,
 "nbformat_minor": 2
}
