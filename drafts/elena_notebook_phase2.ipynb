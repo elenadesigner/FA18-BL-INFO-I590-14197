{
 "cells": [
  {
   "cell_type": "code",
   "execution_count": 4,
   "metadata": {},
   "outputs": [],
   "source": [
    "#Phase 2\n",
    "\n",
    "#Use KMeans algorithm (do not use column CLASS) \n",
    "\n",
    "import pandas as pd\n",
    "from pandas import read_csv\n",
    "import numpy as np\n",
    "import matplotlib.pyplot as plt\n",
    "\n",
    "#continue working with cleaned breast cancer data from the phase 1\n",
    "\n",
    "df = pd.read_csv(\"data/Breast-Cancer-Wisconsin.csv\") \n",
    "df[\"A7\"] = df[\"A7\"].replace('?', np.NaN) #Replace ? by NaN in column A7\n",
    "df[\"A7\"] = pd.to_numeric(df['A7']) #Apply pandas function pd.to_numeric() for column A7\n",
    "df = df.fillna(df[\"A7\"].mean(skipna=True)) #Replace NaN values with the mean of column A7"
   ]
  },
  {
   "cell_type": "code",
   "execution_count": 7,
   "metadata": {},
   "outputs": [
    {
     "name": "stdout",
     "output_type": "stream",
     "text": [
      "[[ 7.27083333  4.85416667  5.03125     4.78125     4.08333333  9.26609017\n",
      "   5.26041667  3.76041667  1.65625   ]\n",
      " [ 2.94493392  1.24449339  1.36563877  1.29295154  2.03964758  1.3514006\n",
      "   2.06167401  1.20044053  1.07709251]\n",
      " [ 6.7625      8.3875      8.425       7.75        6.775       9.2125\n",
      "   7.375       7.7375      3.7875    ]\n",
      " [ 7.42028986  7.08695652  6.73913043  4.28985507  5.62318841  3.44397055\n",
      "   5.39130435  6.94202899  2.31884058]]\n"
     ]
    }
   ],
   "source": [
    "new_df = df.loc[:, 'A2':'A10'] #use only columns A2-A10\n",
    "\n",
    "from sklearn.cluster import KMeans #import KMeans - use sklearn.cluster\n",
    "\n",
    "X = np.array(new_df)\n",
    "kmeans = KMeans(n_clusters=4) #create KMeans model for n_cluster = 4\n",
    "\n",
    "kmeans.fit(X) #fit model to your data \n",
    "\n",
    "centroids = kmeans.cluster_centers_  #calculate centroids\n",
    "\n",
    "print(centroids) # print centroids\n"
   ]
  },
  {
   "cell_type": "code",
   "execution_count": 8,
   "metadata": {
    "collapsed": true
   },
   "outputs": [],
   "source": [
    "#Find the optimal number of clusters\n",
    "\n",
    "inertias_values = []\n",
    "K = range(1,15) #create a range from 1 to 15 or more\n",
    "for k in K: #use for loop to calculate KMeans for each values\n",
    "    kmeanModel = KMeans(n_clusters=k).fit(X)\n",
    "    kmeanModel.fit(X)\n",
    "    inertias_values.append(kmeanModel.inertia_)"
   ]
  },
  {
   "cell_type": "code",
   "execution_count": 9,
   "metadata": {},
   "outputs": [
    {
     "data": {
      "image/png": "[encoded data removed]",
      "text/plain": [
       "<matplotlib.figure.Figure at 0x11a766240>"
      ]
     },
     "metadata": {},
     "output_type": "display_data"
    }
   ],
   "source": [
    "plt.plot(K, inertias_values, 'bx-') #plot range and inertia\n",
    "plt.xlabel('k')\n",
    "plt.ylabel('Inertias Values')\n",
    "plt.title('Optimal number of clustes')\n",
    "plt.show()"
   ]
  },
  {
   "cell_type": "code",
   "execution_count": 10,
   "metadata": {},
   "outputs": [
    {
     "name": "stdout",
     "output_type": "stream",
     "text": [
      "Optimal number of clustes based on the inertia plot is: 2\n"
     ]
    }
   ],
   "source": [
    "print (\"Optimal number of clustes based on the inertia plot is: 2\") #specify the optimal number of clustes based on the inertia plot"
   ]
  },
  {
   "cell_type": "code",
   "execution_count": 11,
   "metadata": {
    "collapsed": true
   },
   "outputs": [],
   "source": [
    "#Revise data variation\n",
    "\n",
    "new_df_std = new_df.std () #apply standard deviation function for columns A2-A10"
   ]
  },
  {
   "cell_type": "code",
   "execution_count": null,
   "metadata": {
    "collapsed": true
   },
   "outputs": [],
   "source": []
  }
 ],
 "metadata": {
  "kernelspec": {
   "display_name": "Python 3",
   "language": "python",
   "name": "python3"
  },
  "language_info": {
   "codemirror_mode": {
    "name": "ipython",
    "version": 3
   },
   "file_extension": ".py",
   "mimetype": "text/x-python",
   "name": "python",
   "nbconvert_exporter": "python",
   "pygments_lexer": "ipython3",
   "version": "3.6.1"
  }
 },
 "nbformat": 4,
 "nbformat_minor": 2
}
