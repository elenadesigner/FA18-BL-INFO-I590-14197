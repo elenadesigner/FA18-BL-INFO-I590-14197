{
 "cells": [
  {
   "cell_type": "markdown",
   "metadata": {},
   "source": [
    "# IU Python Final_Phase 1: Tristen O'Brien, Elena Kirzhner, Sidd Pratap\n",
    "Due Sunday Nov 18 @ 11:59pm EST"
   ]
  },
  {
   "cell_type": "markdown",
   "metadata": {},
   "source": [
    "INSTRUCITONS & DELIVERABLES\n",
    "\n",
    "No LATE submission allowed.\n",
    "\n",
    "For submission your need TWO items:\n",
    "\n",
    "1. Type a URL address for your team's github with you code, data, readme file with each member contribution explicitly stated. It is your responsibility that github content is accessible to instructors. Grade is based on group work and also on individual contribution.\n",
    "\n",
    "2. Upload a notebook file (ipynb) separately\n",
    "\n",
    "\n",
    "Grading criteria 30 pts\n",
    "\n",
    "Data cleaning - report Number of NaN, replace ?, impute NaN by the column mean. 5 pts\n",
    "\n",
    "Data Stats 5pts\n",
    "\n",
    "Plotting Scatterplot and Bar Plot must have titles,y axis and x axis names, non-default colors. 9 histograms (subfigures) do not have to have titles. 5pts\n",
    "\n",
    "Import libraries, Proper data import 5pts\n",
    "\n",
    "Github set up with one folder for code and one folder for dataset 5pts [if you do not have folders, there will be no penalty. Having specific folders for code and data is a good practice].\n",
    "\n",
    "Readme file with contributions 5pts"
   ]
  },
  {
   "cell_type": "markdown",
   "metadata": {},
   "source": [
    "# Data & Library Import"
   ]
  },
  {
   "cell_type": "code",
   "execution_count": 1,
   "metadata": {},
   "outputs": [],
   "source": [
    "import pandas as pd\n",
    "from pandas import read_csv\n",
    "import numpy as np\n",
    "import matplotlib.pyplot as plt\n",
    "import seaborn as sns\n",
    "plt.style.use('seaborn-deep')"
   ]
  },
  {
   "cell_type": "code",
   "execution_count": 2,
   "metadata": {},
   "outputs": [
    {
     "name": "stdout",
     "output_type": "stream",
     "text": [
      "       Scn  A2  A3  A4  A5  A6  A7  A8  A9  A10  CLASS\n",
      "0  1000025   5   1   1   1   2   1   3   1    1      2\n",
      "1  1002945   5   4   4   5   7  10   3   2    1      2\n",
      "2  1015425   3   1   1   1   2   2   3   1    1      2\n",
      "3  1016277   6   8   8   1   3   4   3   7    1      2\n",
      "4  1017023   4   1   1   3   2   1   3   1    1      2\n",
      "        Scn  A2  A3  A4  A5  A6 A7  A8  A9  A10  CLASS\n",
      "694  776715   3   1   1   1   3  2   1   1    1      2\n",
      "695  841769   2   1   1   1   2  1   1   1    1      2\n",
      "696  888820   5  10  10   3   7  3   8  10    2      4\n",
      "697  897471   4   8   6   4   3  4  10   6    1      4\n",
      "698  897471   4   8   8   5   4  5  10   4    1      4\n"
     ]
    },
    {
     "data": {
      "text/plain": [
       "array(['Scn', 'A2', 'A3', 'A4', 'A5', 'A6', 'A7', 'A8', 'A9', 'A10',\n",
       "       'CLASS'], dtype=object)"
      ]
     },
     "execution_count": 2,
     "metadata": {},
     "output_type": "execute_result"
    }
   ],
   "source": [
    "df = pd.read_csv(\"Breast-Cancer-Wisconsin.csv\") \n",
    "print(df.head())\n",
    "print(df.tail())\n",
    "df.columns.values"
   ]
  },
  {
   "cell_type": "markdown",
   "metadata": {},
   "source": [
    "# Data Cleaning"
   ]
  },
  {
   "cell_type": "code",
   "execution_count": 3,
   "metadata": {},
   "outputs": [],
   "source": [
    "df[\"A7\"] = df[\"A7\"].replace('?', np.NaN) #Replace ? by NaN in column A7"
   ]
  },
  {
   "cell_type": "code",
   "execution_count": 4,
   "metadata": {},
   "outputs": [],
   "source": [
    "df[\"A7\"] = pd.to_numeric(df['A7']) #Apply pandas function pd.to_numeric() for column A7"
   ]
  },
  {
   "cell_type": "code",
   "execution_count": 5,
   "metadata": {},
   "outputs": [
    {
     "name": "stdout",
     "output_type": "stream",
     "text": [
      "Scn       0\n",
      "A2        0\n",
      "A3        0\n",
      "A4        0\n",
      "A5        0\n",
      "A6        0\n",
      "A7       16\n",
      "A8        0\n",
      "A9        0\n",
      "A10       0\n",
      "CLASS     0\n",
      "dtype: int64\n",
      "\n",
      "There are 16 NaN (null values) in column A7\n"
     ]
    }
   ],
   "source": [
    "print (df.isnull().sum())\n",
    "print()\n",
    "print (\"There are\", df['A7'].isnull().sum(), \"NaN (null values) in column A7\")#Report how many NaN"
   ]
  },
  {
   "cell_type": "code",
   "execution_count": 6,
   "metadata": {},
   "outputs": [],
   "source": [
    "#Replace NaN values with the mean of column A7. \n",
    "#Use fillna() - find how to calculate mean of the column, add a parameter skipna=TRUE. \n",
    "\n",
    "df_clean = df.fillna(df.mean(skipna=True))\n",
    "\n",
    "#Apply this function to the entire df - you do not need to specify here column A7\n",
    "\n",
    "#CODE NOTES: df.fillna(df[\"A7\"].mean(skipna=True)) if only replacing column A7\n",
    " \n",
    "#CODE NOTES: use column 23 as a check, this originally han \"?\" that should be replaced by NaN, then by A7 Mean\n",
    "# check A7 mean using df.describe(), below in Data Stats Section"
   ]
  },
  {
   "cell_type": "markdown",
   "metadata": {},
   "source": [
    "# Data Stats"
   ]
  },
  {
   "cell_type": "code",
   "execution_count": 7,
   "metadata": {
    "scrolled": false
   },
   "outputs": [
    {
     "name": "stdout",
     "output_type": "stream",
     "text": [
      "                Scn          A2          A3          A4          A5  \\\n",
      "count  6.990000e+02  699.000000  699.000000  699.000000  699.000000   \n",
      "mean   1.071704e+06    4.417740    3.134478    3.207439    2.806867   \n",
      "std    6.170957e+05    2.815741    3.051459    2.971913    2.855379   \n",
      "min    6.163400e+04    1.000000    1.000000    1.000000    1.000000   \n",
      "25%    8.706885e+05    2.000000    1.000000    1.000000    1.000000   \n",
      "50%    1.171710e+06    4.000000    1.000000    1.000000    1.000000   \n",
      "75%    1.238298e+06    6.000000    5.000000    5.000000    4.000000   \n",
      "max    1.345435e+07   10.000000   10.000000   10.000000   10.000000   \n",
      "\n",
      "               A6          A7          A8          A9         A10       CLASS  \n",
      "count  699.000000  699.000000  699.000000  699.000000  699.000000  699.000000  \n",
      "mean     3.216023    3.544656    3.437768    2.866953    1.589413    2.689557  \n",
      "std      2.214300    3.601852    2.438364    3.053634    1.715078    0.951273  \n",
      "min      1.000000    1.000000    1.000000    1.000000    1.000000    2.000000  \n",
      "25%      2.000000    1.000000    2.000000    1.000000    1.000000    2.000000  \n",
      "50%      2.000000    1.000000    3.000000    1.000000    1.000000    2.000000  \n",
      "75%      4.000000    5.000000    5.000000    4.000000    1.000000    4.000000  \n",
      "max     10.000000   10.000000   10.000000   10.000000   10.000000    4.000000  \n"
     ]
    }
   ],
   "source": [
    "print (df_clean.describe()) #Provide the summary statistics"
   ]
  },
  {
   "cell_type": "code",
   "execution_count": 8,
   "metadata": {},
   "outputs": [
    {
     "name": "stdout",
     "output_type": "stream",
     "text": [
      "(699, 11)\n"
     ]
    }
   ],
   "source": [
    "print(df.shape) #Find number of columns and number of rows \n",
    "# hint use ___.shape[] - use a proper index for column and row (consult pandas)."
   ]
  },
  {
   "cell_type": "code",
   "execution_count": 9,
   "metadata": {},
   "outputs": [],
   "source": [
    "number_cols = len(df.columns)\n",
    "number_rows = len(df.index)"
   ]
  },
  {
   "cell_type": "code",
   "execution_count": 10,
   "metadata": {},
   "outputs": [
    {
     "name": "stdout",
     "output_type": "stream",
     "text": [
      "There are 699 rows and 11 columns\n"
     ]
    }
   ],
   "source": [
    "print (\"There are\", number_rows, \"rows and\", number_cols, \"columns\") #Report how many observations (row) and columns"
   ]
  },
  {
   "cell_type": "code",
   "execution_count": 11,
   "metadata": {},
   "outputs": [
    {
     "name": "stdout",
     "output_type": "stream",
     "text": [
      "699 rows\n",
      "11 columns\n"
     ]
    }
   ],
   "source": [
    "# OR\n",
    "# Find number of columns and number of rows - hint use ___.shape[]\n",
    "# TMTOWDYI\n",
    "print(str(df.shape[0]) + \" rows\")\n",
    "print(str(df.shape[1]) + \" columns\")"
   ]
  },
  {
   "cell_type": "code",
   "execution_count": 12,
   "metadata": {},
   "outputs": [
    {
     "name": "stdout",
     "output_type": "stream",
     "text": [
      "there are 645 unique ID values in the Scn Column\n"
     ]
    }
   ],
   "source": [
    "#Report how many unique id values (column Scn) \n",
    "unique_ids = len(df.Scn.unique()) \n",
    "print(\"there are\", unique_ids, \"unique ID values in the Scn Column\")"
   ]
  },
  {
   "cell_type": "markdown",
   "metadata": {},
   "source": [
    "# Plots: Histogram & Bar Plot"
   ]
  },
  {
   "cell_type": "code",
   "execution_count": 13,
   "metadata": {},
   "outputs": [
    {
     "data": {
      "image/png": "[encoded data removed]",
      "text/plain": [
       "<Figure size 432x288 with 9 Axes>"
      ]
     },
     "metadata": {
      "needs_background": "light"
     },
     "output_type": "display_data"
    }
   ],
   "source": [
    "pd.DataFrame.hist(df.loc[:, 'A2':'A10'], grid = False, color = 'y') #Draw histograms for columns A2-A10\n",
    "plt.tight_layout(rect=(0, 0, 1, 1))\n",
    "plt.show()"
   ]
  },
  {
   "cell_type": "code",
   "execution_count": 14,
   "metadata": {},
   "outputs": [],
   "source": [
    "df2 = pd.value_counts(df['CLASS'].values)"
   ]
  },
  {
   "cell_type": "code",
   "execution_count": 15,
   "metadata": {},
   "outputs": [
    {
     "name": "stdout",
     "output_type": "stream",
     "text": [
      "2    458\n",
      "4    241\n",
      "dtype: int64\n"
     ]
    }
   ],
   "source": [
    "print (df2)"
   ]
  },
  {
   "cell_type": "code",
   "execution_count": 16,
   "metadata": {},
   "outputs": [],
   "source": [
    "benign = df2[2]\n",
    "malignant = df2[4]"
   ]
  },
  {
   "cell_type": "code",
   "execution_count": 17,
   "metadata": {},
   "outputs": [
    {
     "data": {
      "image/png": "[encoded data removed]",
      "text/plain": [
       "<Figure size 432x288 with 1 Axes>"
      ]
     },
     "metadata": {
      "needs_background": "light"
     },
     "output_type": "display_data"
    }
   ],
   "source": [
    "#Draw a bar plot for CLASS\n",
    "df2[[2,4]] #getting errors using ['benign','malignant'] \n",
    "plt.title('Bar plot | Breast Cancer class counts')\n",
    "plt.xlabel('Class (2 = benign, 4 = malignant)')\n",
    "plt.ylabel('Values | Count')\n",
    "\n",
    "df2.plot.bar(color = (0.2,0.1,0.4))\n",
    "plt.show()"
   ]
  },
  {
   "cell_type": "code",
   "execution_count": 18,
   "metadata": {},
   "outputs": [
    {
     "data": {
      "image/png": "[encoded data removed]",
      "text/plain": [
       "<Figure size 432x288 with 1 Axes>"
      ]
     },
     "metadata": {
      "needs_background": "light"
     },
     "output_type": "display_data"
    }
   ],
   "source": [
    "#Draw a scatterplot of any two columns\n",
    "normal_nuclei = df['A9']\n",
    "mitosis = df['A10']\n",
    "plt.title('Pattern Separation Scatterplot | Normal_Nuclei(A9) vs. Mitosis(A10)')\n",
    "plt.xlabel('Normal_Nuclei(A9)')\n",
    "plt.ylabel('Mitosis(A10)')\n",
    "plt.scatter(normal_nuclei, mitosis, c='DarkBlue')\n",
    "plt.show()"
   ]
  },
  {
   "cell_type": "code",
   "execution_count": 19,
   "metadata": {},
   "outputs": [],
   "source": [
    "#Summarize by reporting which values might need standardization in the future (too much variation) \n",
    "# and any other observations that you may discover as a Data Scientist."
   ]
  },
  {
   "cell_type": "markdown",
   "metadata": {},
   "source": [
    "# PHASE 1: SUMMARY\n",
    "\n",
    "Using a Correlation matrix and visualizing with a heatmap (below), we observed that columns A3,A4 & A7 had correlation values of 0.817904, 0.818934 & 0.822696 (respectively) to the outcome variable CLASS (benign, malignant). \n",
    "\n",
    "These are the maximum correlations and highly signigifant, thus these would be the columns of high interst in future classifier models.\n",
    "\n",
    "With respect to standardization, we observed the highest variance in A7, A8 & A4 (3.544656, 3.437768 & 3.207439 Standard Deviations, respectively). \n",
    "\n",
    "Looking at the individual histograms (below), we also conclude that A7 (Bare Nuclei) has the widest bifurcation in values. With many 1's and 10's at the extremes. Additionally, A10 (Mitosis) had many 1's and few other values, so the least variance (STDEV). \n",
    "\n",
    "Overall, we plan to persue a ranked normalization based on these findings, prioritizing and ranking columns. \n",
    "Columns A7 (Bare Nuclei) would be the prioritized column to standardize. Since all columns besice Scn (IDs) & CLASS (response variable) are on the same scale of grading (1-10), Standardization to the column average & setting STDEV to 1 seems to be a good first pass normalization strategy.\n"
   ]
  },
  {
   "cell_type": "code",
   "execution_count": 20,
   "metadata": {},
   "outputs": [
    {
     "data": {
      "text/plain": [
       "<matplotlib.axes._subplots.AxesSubplot at 0xadf0390>"
      ]
     },
     "execution_count": 20,
     "metadata": {},
     "output_type": "execute_result"
    },
    {
     "data": {
      "image/png": "[encoded data removed]",
      "text/plain": [
       "<Figure size 432x288 with 2 Axes>"
      ]
     },
     "metadata": {
      "needs_background": "light"
     },
     "output_type": "display_data"
    }
   ],
   "source": [
    "#create corelation matrix visualization to look for high co-variations with CLASS\n",
    "corr = df.corr()\n",
    "sns.heatmap(corr,xticklabels=corr.columns.values,yticklabels=corr.columns.values)\n",
    "# used https://stackoverflow.com/questions/39409866/correlation-heatmap as reference and code guide"
   ]
  },
  {
   "cell_type": "code",
   "execution_count": 21,
   "metadata": {
    "scrolled": false
   },
   "outputs": [
    {
     "name": "stdout",
     "output_type": "stream",
     "text": [
      "            Scn        A2        A3        A4        A5        A6        A7  \\\n",
      "A2    -0.055308  1.000000  0.644913  0.654589  0.486356  0.521816  0.593091   \n",
      "A3    -0.041603  0.644913  1.000000  0.906882  0.705582  0.751799  0.691709   \n",
      "A4    -0.041576  0.654589  0.906882  1.000000  0.683079  0.719668  0.713878   \n",
      "A5    -0.064878  0.486356  0.705582  0.683079  1.000000  0.599599  0.670648   \n",
      "A6    -0.045528  0.521816  0.751799  0.719668  0.599599  1.000000  0.585716   \n",
      "A7    -0.099248  0.593091  0.691709  0.713878  0.670648  0.585716  1.000000   \n",
      "A8    -0.060051  0.558428  0.755721  0.735948  0.666715  0.616102  0.680615   \n",
      "A9    -0.052072  0.535835  0.722865  0.719446  0.603352  0.628881  0.584280   \n",
      "A10   -0.034901  0.350034  0.458693  0.438911  0.417633  0.479101  0.339210   \n",
      "CLASS -0.080226  0.716001  0.817904  0.818934  0.696800  0.682785  0.822696   \n",
      "\n",
      "             A8        A9       A10     CLASS  \n",
      "A2     0.558428  0.535835  0.350034  0.716001  \n",
      "A3     0.755721  0.722865  0.458693  0.817904  \n",
      "A4     0.735948  0.719446  0.438911  0.818934  \n",
      "A5     0.666715  0.603352  0.417633  0.696800  \n",
      "A6     0.616102  0.628881  0.479101  0.682785  \n",
      "A7     0.680615  0.584280  0.339210  0.822696  \n",
      "A8     1.000000  0.665878  0.344169  0.756616  \n",
      "A9     0.665878  1.000000  0.428336  0.712244  \n",
      "A10    0.344169  0.428336  1.000000  0.423170  \n",
      "CLASS  0.756616  0.712244  0.423170  1.000000  \n"
     ]
    }
   ],
   "source": [
    "print(corr[1:11]) # Omit colum 0 (Scn) as it is the ID and not a measurement variable."
   ]
  },
  {
   "cell_type": "code",
   "execution_count": 22,
   "metadata": {
    "scrolled": false
   },
   "outputs": [
    {
     "data": {
      "image/png": "[encoded data removed]",
      "text/plain": [
       "<Figure size 432x288 with 1 Axes>"
      ]
     },
     "metadata": {
      "needs_background": "light"
     },
     "output_type": "display_data"
    },
    {
     "data": {
      "image/png": "[encoded data removed]",
      "text/plain": [
       "<Figure size 432x288 with 1 Axes>"
      ]
     },
     "metadata": {
      "needs_background": "light"
     },
     "output_type": "display_data"
    },
    {
     "data": {
      "image/png": "[encoded data removed]",
      "text/plain": [
       "<Figure size 432x288 with 1 Axes>"
      ]
     },
     "metadata": {
      "needs_background": "light"
     },
     "output_type": "display_data"
    },
    {
     "data": {
      "image/png": "[encoded data removed]",
      "text/plain": [
       "<Figure size 432x288 with 1 Axes>"
      ]
     },
     "metadata": {
      "needs_background": "light"
     },
     "output_type": "display_data"
    },
    {
     "data": {
      "image/png": "[encoded data removed]",
      "text/plain": [
       "<Figure size 432x288 with 1 Axes>"
      ]
     },
     "metadata": {
      "needs_background": "light"
     },
     "output_type": "display_data"
    },
    {
     "data": {
      "image/png": "[encoded data removed]",
      "text/plain": [
       "<Figure size 432x288 with 1 Axes>"
      ]
     },
     "metadata": {
      "needs_background": "light"
     },
     "output_type": "display_data"
    }
   ],
   "source": [
    "# individual histogram block for more detail and labeled axes\n",
    "\n",
    "pd.DataFrame.hist(df[['A3']], grid = False, color = 'g')\n",
    "plt.xlabel('A3 (Uniformity of Cell Size)')\n",
    "plt.tight_layout(rect=(0, 0, 1, 1))\n",
    "\n",
    "pd.DataFrame.hist(df[['A4']], grid = False, color = 'y')\n",
    "plt.xlabel('A4 (Uniformity of Cell Shape)')\n",
    "plt.tight_layout(rect=(0, 0, 1, 1))\n",
    "\n",
    "pd.DataFrame.hist(df[['A7']], grid = False, color = 'b')\n",
    "plt.xlabel('A7 (Bare Nuclei)')\n",
    "plt.tight_layout(rect=(0, 0, 1, 1))\n",
    "\n",
    "pd.DataFrame.hist(df[['A8']], grid = False, color = 'r')\n",
    "plt.xlabel('A8 (Bland Chromatin)')\n",
    "plt.tight_layout(rect=(0, 0, 1, 1))\n",
    "\n",
    "pd.DataFrame.hist(df[['A9']], grid = False, color = 'b')\n",
    "plt.xlabel('A9 (Normal Nuclei)')\n",
    "plt.tight_layout(rect=(0, 0, 1, 1))\n",
    "\n",
    "pd.DataFrame.hist(df[['A10']], grid = False, color = 'g')\n",
    "plt.xlabel('A10 (Mitosis)')\n",
    "plt.tight_layout(rect=(0, 0, 1, 1))\n",
    "\n",
    "plt.ylabel('count')\n",
    "plt.show()"
   ]
  },
  {
   "cell_type": "markdown",
   "metadata": {},
   "source": [
    "\n",
    "\n",
    "\n",
    "\n",
    "# PHASE 2 Due Dec 2, 2018\n",
    "In the second phase you will be implementing k-means algorithm\n",
    "(do not use column CLASS) 10pts\n",
    "\n",
    "continue working with cleaned breast cancer data from the phase 1 use only columns A2-A10"
   ]
  },
  {
   "cell_type": "markdown",
   "metadata": {},
   "source": [
    "# Use KMeans algorithm \n",
    "\n",
    "import KMeans - use sklearn.cluster\n",
    "\n",
    "create KMeans model for n_cluster = 4\n",
    "\n",
    "fit model to your data"
   ]
  },
  {
   "cell_type": "code",
   "execution_count": 213,
   "metadata": {
    "scrolled": false
   },
   "outputs": [
    {
     "name": "stdout",
     "output_type": "stream",
     "text": [
      "[0 2 0 3 0 1 0 0 0 0 0 0 0 0 1 3 0 0 2 0 2 3 0 2 0 2 0 0 0 0 0 0 3 0 0 0 3\n",
      " 0 2 2 3 3 1 3 3 0 2 0 0 3 3 0 3 1 2 3 3 3 2 3 3 0 3 3 0 3 0 2 1 0 0 3 0 2\n",
      " 2 0 0 0 0 0 0 0 0 0 1 3 2 1 0 0 0 0 0 0 0 0 0 0 3 1 3 0 0 0 1 0 2 1 0 2 0\n",
      " 2 2 1 0 0 0 1 0 0 0 0 1 2 1 0 2 0 2 0 0 0 1 0 0 0 0 0 0 0 0 0 2 0 0 0 2 0\n",
      " 0 1 0 2 3 0 0 2 0 0 0 1 2 0 0 0 0 0 1 3 0 0 0 0 0 1 2 1 0 3 0 2 0 0 0 1 2\n",
      " 0 1 1 1 0 1 1 0 0 0 0 2 0 0 0 1 2 0 0 0 1 3 0 0 0 1 1 0 1 1 3 0 0 3 0 0 1\n",
      " 0 2 2 0 2 3 0 1 2 1 3 2 0 0 1 3 1 2 0 0 0 0 0 0 1 2 0 0 0 2 2 1 3 2 0 0 0\n",
      " 2 2 1 1 2 3 0 2 2 3 0 2 0 2 0 0 0 0 0 0 2 0 0 2 2 2 1 1 0 3 1 0 0 3 2 0 2\n",
      " 3 0 0 2 3 0 1 0 2 2 0 0 3 0 0 0 3 0 0 3 2 1 0 2 2 0 0 2 0 0 2 0 3 2 2 0 0\n",
      " 2 2 0 2 0 0 2 2 0 0 0 1 0 0 0 3 2 0 0 3 1 0 0 0 1 3 2 1 2 0 0 0 0 1 1 0 0\n",
      " 0 0 0 0 0 0 0 0 0 0 0 2 0 0 0 0 2 0 0 0 0 1 0 0 0 0 0 0 0 0 1 0 0 0 0 0 0\n",
      " 0 0 0 0 0 3 0 2 0 2 0 0 0 0 1 0 0 0 1 0 3 0 0 0 0 0 0 2 2 3 0 0 0 2 0 0 0\n",
      " 0 0 0 0 0 1 0 0 0 1 0 0 2 3 0 0 0 0 0 0 0 3 2 2 0 0 0 0 0 0 0 0 0 0 0 1 0\n",
      " 0 1 1 0 0 0 1 3 0 0 2 0 1 2 0 0 0 0 0 0 0 0 0 0 0 1 0 0 0 0 0 0 0 1 1 0 0\n",
      " 0 2 0 0 2 2 0 0 0 0 0 0 2 0 0 0 0 0 0 0 0 0 0 0 0 0 0 0 1 0 0 3 0 0 0 0 0\n",
      " 0 0 0 0 0 0 0 0 0 0 1 0 0 2 1 2 1 0 0 3 0 0 0 0 0 0 1 1 0 0 0 1 0 3 0 3 2\n",
      " 2 0 2 0 0 0 0 0 0 0 0 3 2 3 0 0 1 0 2 3 1 0 0 0 0 0 0 0 0 0 0 0 0 0 3 0 0\n",
      " 0 0 0 0 3 0 0 3 0 0 0 0 0 0 0 0 0 0 0 1 0 0 0 0 0 0 0 0 3 2 0 0 0 0 0 0 0\n",
      " 0 0 3 1 1 0 0 0 0 0 0 0 0 0 1 1 0 0 0 0 0 0 0 0 0 3 0 0 0 0 3 3 3]\n",
      "\n",
      " length of labels-object: 699\n",
      "\n",
      "cluster counts:\n",
      " 0    454\n",
      "2     96\n",
      "1     80\n",
      "3     69\n",
      "dtype: int64\n"
     ]
    }
   ],
   "source": [
    "from sklearn.cluster import KMeans\n",
    "\n",
    "df_noclass = df_clean.loc[:, 'A2':'A10'] \n",
    "# exclude Scn + CLASS column\n",
    "\n",
    "model = KMeans(n_clusters = 4)\n",
    "model.fit(df_noclass) \n",
    "labels = model.predict(df_noclass)\n",
    "print (labels)\n",
    "#code from DataCamp \"unsupervised learning in python\" as giude source\n",
    "\n",
    "print('\\n length of labels-object:',len(labels)) \n",
    "#check for 699 values\n",
    "#so all rows have a call and range from 0-3 (4 classes)\n",
    "\n",
    "print()\n",
    "print('cluster counts:\\n', pd.value_counts(labels)) #how many of each class"
   ]
  },
  {
   "cell_type": "markdown",
   "metadata": {},
   "source": [
    "# Calculate centroids \n",
    "\n",
    "print centroids - you should have a matrix with 4 row (4 clusters) and 9 columns (for each A column)"
   ]
  },
  {
   "cell_type": "code",
   "execution_count": 221,
   "metadata": {
    "scrolled": false
   },
   "outputs": [
    {
     "name": "stdout",
     "output_type": "stream",
     "text": [
      "size / shape of centroids-object (rows, columns):\n",
      " (4, 9)\n",
      "type of centroids-object:\n",
      " <class 'numpy.ndarray'>\n",
      "centroid min:\n",
      " 1.077092511013221\n",
      "centroid max:\n",
      " 9.266090165934592\n",
      "centroids-array:\n",
      " [[2.94493392 1.24449339 1.36563877 1.29295154 2.03964758 1.3514006\n",
      "  2.06167401 1.20044053 1.07709251]\n",
      " [6.7625     8.3875     8.425      7.75       6.775      9.2125\n",
      "  7.375      7.7375     3.7875    ]\n",
      " [7.27083333 4.85416667 5.03125    4.78125    4.08333333 9.26609017\n",
      "  5.26041667 3.76041667 1.65625   ]\n",
      " [7.42028986 7.08695652 6.73913043 4.28985507 5.62318841 3.44397055\n",
      "  5.39130435 6.94202899 2.31884058]]\n"
     ]
    },
    {
     "data": {
      "image/png": "[encoded data removed]",
      "text/plain": [
       "<Figure size 432x288 with 1 Axes>"
      ]
     },
     "metadata": {
      "needs_background": "light"
     },
     "output_type": "display_data"
    },
    {
     "data": {
      "image/png": "[encoded data removed]",
      "text/plain": [
       "<Figure size 432x288 with 1 Axes>"
      ]
     },
     "metadata": {
      "needs_background": "light"
     },
     "output_type": "display_data"
    },
    {
     "data": {
      "image/png": "[encoded data removed]",
      "text/plain": [
       "<Figure size 432x288 with 1 Axes>"
      ]
     },
     "metadata": {
      "needs_background": "light"
     },
     "output_type": "display_data"
    },
    {
     "data": {
      "image/png": "[encoded data removed]",
      "text/plain": [
       "<Figure size 432x288 with 1 Axes>"
      ]
     },
     "metadata": {
      "needs_background": "light"
     },
     "output_type": "display_data"
    }
   ],
   "source": [
    "#\n",
    "centroids = model.cluster_centers_\n",
    "print(\"size / shape of centroids-object (rows, columns):\\n\", centroids.shape)\n",
    "print(\"type of centroids-object:\\n\",type(centroids))\n",
    "print(\"centroid min:\\n\", centroids.min())\n",
    "print(\"centroid max:\\n\", centroids.max())\n",
    "print('centroids-array:\\n', centroids)\n",
    "\n",
    "# data viz of centroids\n",
    "centroids_0 = centroids[0,:]\n",
    "centroids_1 = centroids[1,:]\n",
    "centroids_2 = centroids[2,:]\n",
    "centroids_3 = centroids[3,:]\n",
    "\n",
    "x = list(range(1,10))\n",
    "\n",
    "plt.scatter(centroids_0, x, marker = 'P', color = 'r', s=100)\n",
    "plt.title(\"Centroids_0\")\n",
    "plt.xlim([1, 10])\n",
    "plt.show()\n",
    "\n",
    "plt.scatter(centroids_1, x, marker = 'D', color = 'y', s=100)\n",
    "plt.title(\"Centroids_1\")\n",
    "plt.xlim([1, 10])\n",
    "plt.show()\n",
    "\n",
    "plt.scatter(centroids_2, x, marker = 'o', color = 'g', s=100)\n",
    "plt.title(\"Centroids_2\")\n",
    "plt.xlim([1, 10])\n",
    "plt.show()\n",
    "\n",
    "plt.scatter(centroids_3, x, marker = 's', color = 'b', s=100)\n",
    "plt.title(\"Centroids_3\")\n",
    "plt.xlim([1, 10])\n",
    "plt.show()\n",
    "\n"
   ]
  },
  {
   "cell_type": "markdown",
   "metadata": {},
   "source": [
    "# Find the optimal number of clusters \n",
    "\n",
    "calculate inertia: (10 pts)\n",
    "\n",
    "create a range from 1 to 15 or more\n",
    "\n",
    "create an empty list for inertias values\n",
    "\n",
    "use for loop to calculate KMeans for each values\n",
    "\n",
    "plot range and inertia\n",
    "\n",
    "Add title, ylabel, xlabel\n",
    "\n",
    "specify the optimal number of clustes based on the inertia plot"
   ]
  },
  {
   "cell_type": "code",
   "execution_count": 444,
   "metadata": {},
   "outputs": [
    {
     "data": {
      "image/png": "[encoded data removed]",
      "text/plain": [
       "<Figure size 432x288 with 1 Axes>"
      ]
     },
     "metadata": {
      "needs_background": "light"
     },
     "output_type": "display_data"
    },
    {
     "name": "stdout",
     "output_type": "stream",
     "text": [
      "Optimun Custer Sze = 2 | Based on inflection point, \"elbow\")\n"
     ]
    }
   ],
   "source": [
    "#code from DataCamp \"unsupervised learning in python\" as giude source\n",
    "#find max / min inertia\n",
    "\n",
    "ks = range(1, 15)\n",
    "inertias = []\n",
    "\n",
    "for k in ks:\n",
    "    model = KMeans(n_clusters = k)\n",
    "    model.fit(df_noclass)\n",
    "    inertias.append(model.inertia_)\n",
    "    \n",
    "# Plot ks vs inertias\n",
    "plt.plot(ks, inertias, '-og')\n",
    "plt.title('inertias caluculated for varying cluster sizes')\n",
    "#plot.set(ylabel='Inertia')\n",
    "plt.xlabel('clusters (k)')\n",
    "#plt.ylabel('inertia')\n",
    "plt.xticks(ks)\n",
    "plt.show()\n",
    "\n",
    "print('Optimun Custer Sze = 2 | Based on inflection point, \"elbow\")')"
   ]
  },
  {
   "cell_type": "markdown",
   "metadata": {},
   "source": [
    "# Revise data variation 10pts\n",
    "\n",
    "apply standard deviation function for columns A2-A10\n",
    "\n",
    "plot standard deviation values - select a graphic that could display all nine values [do not use histogram], add title, legend, ylabel, xlabel. \n",
    "\n",
    "Can you capture how wide or narrow is the variation in each column?\n",
    "describe which features have a lot of data variation"
   ]
  },
  {
   "cell_type": "code",
   "execution_count": 365,
   "metadata": {},
   "outputs": [
    {
     "data": {
      "image/png": "[encoded data removed]",
      "text/plain": [
       "<Figure size 432x288 with 1 Axes>"
      ]
     },
     "metadata": {
      "needs_background": "light"
     },
     "output_type": "display_data"
    },
    {
     "data": {
      "text/html": [
       "<div>\n",
       "<style scoped>\n",
       "    .dataframe tbody tr th:only-of-type {\n",
       "        vertical-align: middle;\n",
       "    }\n",
       "\n",
       "    .dataframe tbody tr th {\n",
       "        vertical-align: top;\n",
       "    }\n",
       "\n",
       "    .dataframe thead th {\n",
       "        text-align: right;\n",
       "    }\n",
       "</style>\n",
       "<table border=\"1\" class=\"dataframe\">\n",
       "  <thead>\n",
       "    <tr style=\"text-align: right;\">\n",
       "      <th></th>\n",
       "      <th>A2</th>\n",
       "      <th>A3</th>\n",
       "      <th>A4</th>\n",
       "      <th>A5</th>\n",
       "      <th>A6</th>\n",
       "      <th>A7</th>\n",
       "      <th>A8</th>\n",
       "      <th>A9</th>\n",
       "      <th>A10</th>\n",
       "    </tr>\n",
       "  </thead>\n",
       "  <tbody>\n",
       "    <tr>\n",
       "      <th>count</th>\n",
       "      <td>699.000000</td>\n",
       "      <td>699.000000</td>\n",
       "      <td>699.000000</td>\n",
       "      <td>699.000000</td>\n",
       "      <td>699.000000</td>\n",
       "      <td>699.000000</td>\n",
       "      <td>699.000000</td>\n",
       "      <td>699.000000</td>\n",
       "      <td>699.000000</td>\n",
       "    </tr>\n",
       "    <tr>\n",
       "      <th>mean</th>\n",
       "      <td>4.417740</td>\n",
       "      <td>3.134478</td>\n",
       "      <td>3.207439</td>\n",
       "      <td>2.806867</td>\n",
       "      <td>3.216023</td>\n",
       "      <td>3.544656</td>\n",
       "      <td>3.437768</td>\n",
       "      <td>2.866953</td>\n",
       "      <td>1.589413</td>\n",
       "    </tr>\n",
       "    <tr>\n",
       "      <th>std</th>\n",
       "      <td>2.815741</td>\n",
       "      <td>3.051459</td>\n",
       "      <td>2.971913</td>\n",
       "      <td>2.855379</td>\n",
       "      <td>2.214300</td>\n",
       "      <td>3.601852</td>\n",
       "      <td>2.438364</td>\n",
       "      <td>3.053634</td>\n",
       "      <td>1.715078</td>\n",
       "    </tr>\n",
       "    <tr>\n",
       "      <th>min</th>\n",
       "      <td>1.000000</td>\n",
       "      <td>1.000000</td>\n",
       "      <td>1.000000</td>\n",
       "      <td>1.000000</td>\n",
       "      <td>1.000000</td>\n",
       "      <td>1.000000</td>\n",
       "      <td>1.000000</td>\n",
       "      <td>1.000000</td>\n",
       "      <td>1.000000</td>\n",
       "    </tr>\n",
       "    <tr>\n",
       "      <th>25%</th>\n",
       "      <td>2.000000</td>\n",
       "      <td>1.000000</td>\n",
       "      <td>1.000000</td>\n",
       "      <td>1.000000</td>\n",
       "      <td>2.000000</td>\n",
       "      <td>1.000000</td>\n",
       "      <td>2.000000</td>\n",
       "      <td>1.000000</td>\n",
       "      <td>1.000000</td>\n",
       "    </tr>\n",
       "    <tr>\n",
       "      <th>50%</th>\n",
       "      <td>4.000000</td>\n",
       "      <td>1.000000</td>\n",
       "      <td>1.000000</td>\n",
       "      <td>1.000000</td>\n",
       "      <td>2.000000</td>\n",
       "      <td>1.000000</td>\n",
       "      <td>3.000000</td>\n",
       "      <td>1.000000</td>\n",
       "      <td>1.000000</td>\n",
       "    </tr>\n",
       "    <tr>\n",
       "      <th>75%</th>\n",
       "      <td>6.000000</td>\n",
       "      <td>5.000000</td>\n",
       "      <td>5.000000</td>\n",
       "      <td>4.000000</td>\n",
       "      <td>4.000000</td>\n",
       "      <td>5.000000</td>\n",
       "      <td>5.000000</td>\n",
       "      <td>4.000000</td>\n",
       "      <td>1.000000</td>\n",
       "    </tr>\n",
       "    <tr>\n",
       "      <th>max</th>\n",
       "      <td>10.000000</td>\n",
       "      <td>10.000000</td>\n",
       "      <td>10.000000</td>\n",
       "      <td>10.000000</td>\n",
       "      <td>10.000000</td>\n",
       "      <td>10.000000</td>\n",
       "      <td>10.000000</td>\n",
       "      <td>10.000000</td>\n",
       "      <td>10.000000</td>\n",
       "    </tr>\n",
       "  </tbody>\n",
       "</table>\n",
       "</div>"
      ],
      "text/plain": [
       "               A2          A3          A4          A5          A6          A7  \\\n",
       "count  699.000000  699.000000  699.000000  699.000000  699.000000  699.000000   \n",
       "mean     4.417740    3.134478    3.207439    2.806867    3.216023    3.544656   \n",
       "std      2.815741    3.051459    2.971913    2.855379    2.214300    3.601852   \n",
       "min      1.000000    1.000000    1.000000    1.000000    1.000000    1.000000   \n",
       "25%      2.000000    1.000000    1.000000    1.000000    2.000000    1.000000   \n",
       "50%      4.000000    1.000000    1.000000    1.000000    2.000000    1.000000   \n",
       "75%      6.000000    5.000000    5.000000    4.000000    4.000000    5.000000   \n",
       "max     10.000000   10.000000   10.000000   10.000000   10.000000   10.000000   \n",
       "\n",
       "               A8          A9         A10  \n",
       "count  699.000000  699.000000  699.000000  \n",
       "mean     3.437768    2.866953    1.589413  \n",
       "std      2.438364    3.053634    1.715078  \n",
       "min      1.000000    1.000000    1.000000  \n",
       "25%      2.000000    1.000000    1.000000  \n",
       "50%      3.000000    1.000000    1.000000  \n",
       "75%      5.000000    4.000000    1.000000  \n",
       "max     10.000000   10.000000   10.000000  "
      ]
     },
     "execution_count": 365,
     "metadata": {},
     "output_type": "execute_result"
    }
   ],
   "source": [
    "avg = np.mean(df_noclass) #print(avg)\n",
    "dev = np.std(df_noclass) #print(dev)\n",
    "\n",
    "plot = sns.barplot(x=x, y=avg, yerr=dev) # x is a list (1:9) from range(1,10)\n",
    "#plt.bar(x, avg, yerr = dev)\n",
    "plot.set(xlabel = 'Column / Measure', ylabel='Mean')\n",
    "plt.title('Varaince (mean+stdev) of tumor measures', size = 18)\n",
    "plt.xticks(np.arange(9), df_noclass.columns.values)\n",
    "plt.legend(dev, bbox_to_anchor=(1,1), loc='upper left')\n",
    "plt.show()\n",
    "\n",
    "df_noclass.describe() \n",
    "#note that np.std has slightly different (not significant) values than in describe() function (pandas)\n"
   ]
  },
  {
   "cell_type": "markdown",
   "metadata": {},
   "source": [
    "# Implement normalization\n",
    "\n",
    "import make_pipeline - use sklearn.pipeline \n",
    "import StandardScaler\n",
    "review datacamp if needed on how to create a pipeline\n",
    "\n",
    "use the n_cluster based on the optimal number you have identified from Inertia\n",
    "find centroids and print them\n",
    "\n",
    "Update your github code 2pts\n",
    "Update your notebook\n",
    "Update your readme file with contribution by each member for phase 2\n",
    "Submit updated version of notebook and your link to github into Phase 2 assignment [one person submit on behalf of your group]"
   ]
  },
  {
   "cell_type": "code",
   "execution_count": 445,
   "metadata": {},
   "outputs": [],
   "source": [
    "from sklearn.pipeline import make_pipeline\n",
    "from sklearn.preprocessing import Normalizer\n",
    "from sklearn.preprocessing import StandardScaler\n",
    "from sklearn.cluster import KMeans\n",
    "\n",
    "normalizer = Normalizer()\n",
    "kmeans = KMeans(n_clusters=4)\n",
    "pipeline = make_pipeline(normalizer, kmeans)\n",
    "model2 = pipeline.fit(df_noclass)"
   ]
  },
  {
   "cell_type": "code",
   "execution_count": 446,
   "metadata": {},
   "outputs": [
    {
     "name": "stdout",
     "output_type": "stream",
     "text": [
      "<class 'sklearn.pipeline.Pipeline'>\n",
      "Pipeline(memory=None,\n",
      "     steps=[('normalizer', Normalizer(copy=True, norm='l2')), ('kmeans', KMeans(algorithm='auto', copy_x=True, init='k-means++', max_iter=300,\n",
      "    n_clusters=4, n_init=10, n_jobs=1, precompute_distances='auto',\n",
      "    random_state=None, tol=0.0001, verbose=0))])\n"
     ]
    }
   ],
   "source": [
    "print(type(pipeline)) \n",
    "print(model2)"
   ]
  },
  {
   "cell_type": "code",
   "execution_count": 457,
   "metadata": {
    "scrolled": false
   },
   "outputs": [
    {
     "name": "stdout",
     "output_type": "stream",
     "text": [
      "size / shape of centroids-object (rows, columns):\n",
      " (4, 9)\n",
      "type of centroids-object:\n",
      " <class 'numpy.ndarray'>\n",
      "centroid min:\n",
      " 1.077092511013221\n",
      "centroid max:\n",
      " 9.266090165934592\n",
      "centroids-array:\n",
      " [[2.94493392 1.24449339 1.36563877 1.29295154 2.03964758 1.3514006\n",
      "  2.06167401 1.20044053 1.07709251]\n",
      " [6.7625     8.3875     8.425      7.75       6.775      9.2125\n",
      "  7.375      7.7375     3.7875    ]\n",
      " [7.27083333 4.85416667 5.03125    4.78125    4.08333333 9.26609017\n",
      "  5.26041667 3.76041667 1.65625   ]\n",
      " [7.42028986 7.08695652 6.73913043 4.28985507 5.62318841 3.44397055\n",
      "  5.39130435 6.94202899 2.31884058]]\n"
     ]
    },
    {
     "data": {
      "image/png": "[encoded data removed]",
      "text/plain": [
       "<Figure size 432x288 with 1 Axes>"
      ]
     },
     "metadata": {
      "needs_background": "light"
     },
     "output_type": "display_data"
    },
    {
     "data": {
      "image/png": "[encoded data removed]",
      "text/plain": [
       "<Figure size 432x288 with 1 Axes>"
      ]
     },
     "metadata": {
      "needs_background": "light"
     },
     "output_type": "display_data"
    },
    {
     "data": {
      "image/png": "[encoded data removed]",
      "text/plain": [
       "<Figure size 432x288 with 1 Axes>"
      ]
     },
     "metadata": {
      "needs_background": "light"
     },
     "output_type": "display_data"
    },
    {
     "data": {
      "image/png": "[encoded data removed]",
      "text/plain": [
       "<Figure size 432x288 with 1 Axes>"
      ]
     },
     "metadata": {
      "needs_background": "light"
     },
     "output_type": "display_data"
    },
    {
     "data": {
      "image/png": "[encoded data removed]",
      "text/plain": [
       "<Figure size 432x288 with 1 Axes>"
      ]
     },
     "metadata": {
      "needs_background": "light"
     },
     "output_type": "display_data"
    },
    {
     "data": {
      "image/png": "[encoded data removed]",
      "text/plain": [
       "<Figure size 432x288 with 1 Axes>"
      ]
     },
     "metadata": {
      "needs_background": "light"
     },
     "output_type": "display_data"
    },
    {
     "data": {
      "image/png": "[encoded data removed]",
      "text/plain": [
       "<Figure size 432x288 with 1 Axes>"
      ]
     },
     "metadata": {
      "needs_background": "light"
     },
     "output_type": "display_data"
    },
    {
     "data": {
      "image/png": "[encoded data removed]",
      "text/plain": [
       "<Figure size 432x288 with 1 Axes>"
      ]
     },
     "metadata": {
      "needs_background": "light"
     },
     "output_type": "display_data"
    },
    {
     "name": "stdout",
     "output_type": "stream",
     "text": [
      "[2.94493392 6.7625     7.27083333 7.42028986] [1.2459893  6.62162162 7.27272727 8.16       4.36363636 4.07905138\n",
      " 7.66666667 8.42857143 4.36666667 8.23529412 8.125      8.52173913\n",
      " 6.85714286 8.72222222]\n"
     ]
    }
   ],
   "source": [
    "centroids2 = model.cluster_centers_\n",
    "print(\"size / shape of centroids-object (rows, columns):\\n\", centroids.shape)\n",
    "print(\"type of centroids-object:\\n\",type(centroids))\n",
    "print(\"centroid min:\\n\", centroids.min())\n",
    "print(\"centroid max:\\n\", centroids.max())\n",
    "print('centroids-array:\\n', centroids)\n",
    "\n",
    "# data viz of centroids\n",
    "centroids2_0 = centroids2[0,:]\n",
    "centroids2_1 = centroids2[1,:]\n",
    "centroids2_2 = centroids2[2,:]\n",
    "centroids2_3 = centroids2[3,:]\n",
    "\n",
    "x = list(range(1,10))\n",
    "\n",
    "plt.scatter(centroids_0, x, marker = 'P', color = 'r', s=100)\n",
    "plt.title(\"Centroids_0\")\n",
    "plt.xlim([1, 10])\n",
    "plt.show()\n",
    "\n",
    "plt.scatter(centroids2_0, x, marker = 'P', color = 'r', s=100)\n",
    "plt.title(\"Centroids2_0 - normalized\")\n",
    "plt.xlim([1, 10])\n",
    "plt.show()\n",
    "\n",
    "plt.scatter(centroids_1, x, marker = 'D', color = 'y', s=100)\n",
    "plt.title(\"Centroids_1\")\n",
    "plt.xlim([1, 10])\n",
    "plt.show()\n",
    "\n",
    "plt.scatter(centroids2_1, x, marker = 'D', color = 'y', s=100)\n",
    "plt.title(\"Centroids2_1 normalized\")\n",
    "plt.xlim([1, 10])\n",
    "plt.show()\n",
    "\n",
    "plt.scatter(centroids_2, x, marker = 'o', color = 'g', s=100)\n",
    "plt.title(\"Centroids_2\")\n",
    "plt.xlim([1, 10])\n",
    "plt.show()\n",
    "plt.scatter(centroids2_2, x, marker = 'o', color = 'g', s=100)\n",
    "plt.title(\"Centroids2_2 Normalized\")\n",
    "plt.xlim([1, 10])\n",
    "plt.show()\n",
    "\n",
    "plt.scatter(centroids_3, x, marker = 's', color = 'b', s=100)\n",
    "plt.title(\"Centroids_3\")\n",
    "plt.xlim([1, 10])\n",
    "plt.show()\n",
    "plt.scatter(centroids2_3, x, marker = 's', color = 'b', s=100)\n",
    "plt.title(\"Centroids2_3 Normalized\")\n",
    "plt.xlim([1, 10])\n",
    "plt.show()\n",
    "\n",
    "print(centroids[:,0], centroids2[:,0])"
   ]
  },
  {
   "cell_type": "code",
   "execution_count": 410,
   "metadata": {
    "scrolled": true
   },
   "outputs": [
    {
     "name": "stdout",
     "output_type": "stream",
     "text": [
      "cluster counts:\n",
      " 2    255\n",
      "0    158\n",
      "1    156\n",
      "3    130\n",
      "dtype: int64\n",
      "     labels         A7\n",
      "698       0   5.000000\n",
      "213       0  10.000000\n",
      "214       0  10.000000\n",
      "215       0   5.000000\n",
      "218       0   4.000000\n",
      "221       0  10.000000\n",
      "227       0   5.000000\n",
      "229       0  10.000000\n",
      "230       0   7.000000\n",
      "231       0   8.000000\n",
      "574       0   2.000000\n",
      "234       0   1.000000\n",
      "236       0  10.000000\n",
      "211       0   8.000000\n",
      "237       0   2.000000\n",
      "571       0  10.000000\n",
      "569       0   5.000000\n",
      "565       0  10.000000\n",
      "246       0  10.000000\n",
      "248       0   1.000000\n",
      "250       0   1.000000\n",
      "254       0   8.000000\n",
      "555       0   1.000000\n",
      "261       0  10.000000\n",
      "262       0  10.000000\n",
      "549       0   5.000000\n",
      "268       0   4.000000\n",
      "238       0   9.000000\n",
      "546       0  10.000000\n",
      "210       0  10.000000\n",
      "..      ...        ...\n",
      "594       3  10.000000\n",
      "179       3  10.000000\n",
      "174       3  10.000000\n",
      "604       3  10.000000\n",
      "160       3  10.000000\n",
      "243       3   5.000000\n",
      "608       3  10.000000\n",
      "247       3   9.000000\n",
      "251       3  10.000000\n",
      "299       3  10.000000\n",
      "295       3  10.000000\n",
      "294       3   3.544656\n",
      "293       3  10.000000\n",
      "284       3  10.000000\n",
      "283       3  10.000000\n",
      "282       3  10.000000\n",
      "275       3   3.544656\n",
      "272       3  10.000000\n",
      "270       3  10.000000\n",
      "267       3  10.000000\n",
      "266       3  10.000000\n",
      "263       3  10.000000\n",
      "553       3   5.000000\n",
      "260       3  10.000000\n",
      "259       3   8.000000\n",
      "255       3  10.000000\n",
      "253       3  10.000000\n",
      "252       3  10.000000\n",
      "249       3   3.544656\n",
      "349       3   8.000000\n",
      "\n",
      "[699 rows x 2 columns]\n"
     ]
    }
   ],
   "source": [
    "#code from DataCamp \"unsupervised learning in python\" as giude source\n",
    "\n",
    "labels = pipeline.predict(df_noclass)\n",
    "df = pd.DataFrame({'labels': labels, 'A7': df_noclass['A7']})\n",
    "\n",
    "# Display df sorted by cluster label\n",
    "print('cluster counts:\\n', pd.value_counts(labels)) #how many of each class\n",
    "print(df.sort_values('labels'))"
   ]
  },
  {
   "cell_type": "code",
   "execution_count": 406,
   "metadata": {
    "scrolled": false
   },
   "outputs": [
    {
     "data": {
      "text/plain": [
       "<matplotlib.axes._subplots.AxesSubplot at 0xe5940f0>"
      ]
     },
     "execution_count": 406,
     "metadata": {},
     "output_type": "execute_result"
    },
    {
     "data": {
      "image/png": "[encoded data removed]",
      "text/plain": [
       "<Figure size 432x288 with 1 Axes>"
      ]
     },
     "metadata": {
      "needs_background": "light"
     },
     "output_type": "display_data"
    }
   ],
   "source": [
    "df.plot.scatter(x= 'labels', y= 'A7')"
   ]
  },
  {
   "cell_type": "code",
   "execution_count": null,
   "metadata": {},
   "outputs": [],
   "source": []
  }
 ],
 "metadata": {
  "kernelspec": {
   "display_name": "Python 3",
   "language": "python",
   "name": "python3"
  },
  "language_info": {
   "codemirror_mode": {
    "name": "ipython",
    "version": 3
   },
   "file_extension": ".py",
   "mimetype": "text/x-python",
   "name": "python",
   "nbconvert_exporter": "python",
   "pygments_lexer": "ipython3",
   "version": "3.7.0"
  }
 },
 "nbformat": 4,
 "nbformat_minor": 2
}
