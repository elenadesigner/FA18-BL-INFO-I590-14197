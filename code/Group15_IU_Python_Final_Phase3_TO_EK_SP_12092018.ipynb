{
 "cells": [
  {
   "cell_type": "markdown",
   "metadata": {},
   "source": [
    "# IU Python Final: Group 15: Tristen O'Brien, Elena Kirzhner, Sidd Pratap"
   ]
  },
  {
   "cell_type": "markdown",
   "metadata": {},
   "source": [
    "# Phase 1\n",
    "Due Sunday Nov 18 @ 11:59pm EST"
   ]
  },
  {
   "cell_type": "markdown",
   "metadata": {},
   "source": [
    "INSTRUCITONS & DELIVERABLES\n",
    "\n",
    "No LATE submission allowed.\n",
    "\n",
    "For submission your need TWO items:\n",
    "\n",
    "1. Type a URL address for your team's github with you code, data, readme file with each member contribution explicitly stated. It is your responsibility that github content is accessible to instructors. Grade is based on group work and also on individual contribution.\n",
    "\n",
    "2. Upload a notebook file (ipynb) separately\n",
    "\n",
    "Grading criteria 30 pts\n",
    "\n",
    "- Phase 1.0: Import libraries, Proper data import 5pts\n",
    "- Phase 1.1: Data cleaning - report Number of NaN, replace ?, impute NaN by the column mean. 5 pts\n",
    "- Phase 1.2: Data Stats 5pts\n",
    "- Phase 1.3: Plotting Scatterplot and Bar Plot must have titles,y axis and x axis names, non-default colors. 9 histograms (subfigures) do not have to have titles. 5pts\n",
    "\n",
    "Github set up with one folder for code and one folder for dataset 5pts [if you do not have folders, there will be no penalty. Having specific folders for code and data is a good practice].\n",
    "\n",
    "Readme file with contributions 5pts"
   ]
  },
  {
   "cell_type": "markdown",
   "metadata": {},
   "source": [
    "# Phase 1.0: Import libraries, Proper data import 5pts"
   ]
  },
  {
   "cell_type": "code",
   "execution_count": 1,
   "metadata": {},
   "outputs": [],
   "source": [
    "import pandas as pd\n",
    "from pandas import read_csv\n",
    "import numpy as np\n",
    "import matplotlib.pyplot as plt\n",
    "import seaborn as sns\n",
    "plt.style.use('seaborn-deep')"
   ]
  },
  {
   "cell_type": "code",
   "execution_count": 2,
   "metadata": {},
   "outputs": [
    {
     "name": "stdout",
     "output_type": "stream",
     "text": [
      "       Scn  A2  A3  A4  A5  A6  A7  A8  A9  A10  CLASS\n",
      "0  1000025   5   1   1   1   2   1   3   1    1      2\n",
      "1  1002945   5   4   4   5   7  10   3   2    1      2\n",
      "2  1015425   3   1   1   1   2   2   3   1    1      2\n",
      "3  1016277   6   8   8   1   3   4   3   7    1      2\n",
      "4  1017023   4   1   1   3   2   1   3   1    1      2\n",
      "        Scn  A2  A3  A4  A5  A6 A7  A8  A9  A10  CLASS\n",
      "694  776715   3   1   1   1   3  2   1   1    1      2\n",
      "695  841769   2   1   1   1   2  1   1   1    1      2\n",
      "696  888820   5  10  10   3   7  3   8  10    2      4\n",
      "697  897471   4   8   6   4   3  4  10   6    1      4\n",
      "698  897471   4   8   8   5   4  5  10   4    1      4\n"
     ]
    },
    {
     "data": {
      "text/plain": [
       "array(['Scn', 'A2', 'A3', 'A4', 'A5', 'A6', 'A7', 'A8', 'A9', 'A10',\n",
       "       'CLASS'], dtype=object)"
      ]
     },
     "execution_count": 2,
     "metadata": {},
     "output_type": "execute_result"
    }
   ],
   "source": [
    "df = pd.read_csv(\"Breast-Cancer-Wisconsin.csv\") \n",
    "print(df.head())\n",
    "print(df.tail())\n",
    "df.columns.values"
   ]
  },
  {
   "cell_type": "markdown",
   "metadata": {},
   "source": [
    "# Phase 1.1: Data cleaning - report Number of NaN, replace ?, impute NaN by the column mean. 5 pts"
   ]
  },
  {
   "cell_type": "code",
   "execution_count": 3,
   "metadata": {},
   "outputs": [],
   "source": [
    "df[\"A7\"] = df[\"A7\"].replace('?', np.NaN) #Replace ? by NaN in column A7"
   ]
  },
  {
   "cell_type": "code",
   "execution_count": 4,
   "metadata": {},
   "outputs": [],
   "source": [
    "df[\"A7\"] = pd.to_numeric(df['A7']) #Apply pandas function pd.to_numeric() for column A7"
   ]
  },
  {
   "cell_type": "code",
   "execution_count": 5,
   "metadata": {},
   "outputs": [
    {
     "name": "stdout",
     "output_type": "stream",
     "text": [
      "Scn       0\n",
      "A2        0\n",
      "A3        0\n",
      "A4        0\n",
      "A5        0\n",
      "A6        0\n",
      "A7       16\n",
      "A8        0\n",
      "A9        0\n",
      "A10       0\n",
      "CLASS     0\n",
      "dtype: int64\n",
      "\n",
      "There are 16 NaN (null values) in column A7\n"
     ]
    }
   ],
   "source": [
    "print (df.isnull().sum())\n",
    "print()\n",
    "print (\"There are\", df['A7'].isnull().sum(), \"NaN (null values) in column A7\")#Report how many NaN"
   ]
  },
  {
   "cell_type": "code",
   "execution_count": 6,
   "metadata": {},
   "outputs": [],
   "source": [
    "#Replace NaN values with the mean of column A7. \n",
    "#Use fillna() - find how to calculate mean of the column, add a parameter skipna=TRUE. \n",
    "\n",
    "df_clean = df.fillna(df.mean(skipna=True))\n",
    "\n",
    "#Apply this function to the entire df - you do not need to specify here column A7\n",
    "\n",
    "#CODE NOTES: df.fillna(df[\"A7\"].mean(skipna=True)) if only replacing column A7\n",
    " \n",
    "#CODE NOTES: use column 23 as a check, this originally han \"?\" that should be replaced by NaN, then by A7 Mean\n",
    "# check A7 mean using df.describe(), below in Data Stats Section"
   ]
  },
  {
   "cell_type": "markdown",
   "metadata": {},
   "source": [
    "# Phase 1.2: Data Stats 5pts"
   ]
  },
  {
   "cell_type": "code",
   "execution_count": 7,
   "metadata": {
    "scrolled": false
   },
   "outputs": [
    {
     "name": "stdout",
     "output_type": "stream",
     "text": [
      "                Scn          A2          A3          A4          A5  \\\n",
      "count  6.990000e+02  699.000000  699.000000  699.000000  699.000000   \n",
      "mean   1.071704e+06    4.417740    3.134478    3.207439    2.806867   \n",
      "std    6.170957e+05    2.815741    3.051459    2.971913    2.855379   \n",
      "min    6.163400e+04    1.000000    1.000000    1.000000    1.000000   \n",
      "25%    8.706885e+05    2.000000    1.000000    1.000000    1.000000   \n",
      "50%    1.171710e+06    4.000000    1.000000    1.000000    1.000000   \n",
      "75%    1.238298e+06    6.000000    5.000000    5.000000    4.000000   \n",
      "max    1.345435e+07   10.000000   10.000000   10.000000   10.000000   \n",
      "\n",
      "               A6          A7          A8          A9         A10       CLASS  \n",
      "count  699.000000  699.000000  699.000000  699.000000  699.000000  699.000000  \n",
      "mean     3.216023    3.544656    3.437768    2.866953    1.589413    2.689557  \n",
      "std      2.214300    3.601852    2.438364    3.053634    1.715078    0.951273  \n",
      "min      1.000000    1.000000    1.000000    1.000000    1.000000    2.000000  \n",
      "25%      2.000000    1.000000    2.000000    1.000000    1.000000    2.000000  \n",
      "50%      2.000000    1.000000    3.000000    1.000000    1.000000    2.000000  \n",
      "75%      4.000000    5.000000    5.000000    4.000000    1.000000    4.000000  \n",
      "max     10.000000   10.000000   10.000000   10.000000   10.000000    4.000000  \n"
     ]
    }
   ],
   "source": [
    "print (df_clean.describe()) #Provide the summary statistics"
   ]
  },
  {
   "cell_type": "code",
   "execution_count": 8,
   "metadata": {},
   "outputs": [
    {
     "name": "stdout",
     "output_type": "stream",
     "text": [
      "(699, 11)\n"
     ]
    }
   ],
   "source": [
    "print(df.shape) #Find number of columns and number of rows \n",
    "# hint use ___.shape[] - use a proper index for column and row (consult pandas)."
   ]
  },
  {
   "cell_type": "code",
   "execution_count": 9,
   "metadata": {},
   "outputs": [],
   "source": [
    "number_cols = len(df.columns)\n",
    "number_rows = len(df.index)"
   ]
  },
  {
   "cell_type": "code",
   "execution_count": 10,
   "metadata": {},
   "outputs": [
    {
     "name": "stdout",
     "output_type": "stream",
     "text": [
      "There are 699 rows and 11 columns\n"
     ]
    }
   ],
   "source": [
    "print (\"There are\", number_rows, \"rows and\", number_cols, \"columns\") #Report how many observations (row) and columns"
   ]
  },
  {
   "cell_type": "code",
   "execution_count": 11,
   "metadata": {},
   "outputs": [
    {
     "name": "stdout",
     "output_type": "stream",
     "text": [
      "699 rows\n",
      "11 columns\n"
     ]
    }
   ],
   "source": [
    "# OR\n",
    "# Find number of columns and number of rows - hint use ___.shape[]\n",
    "# TMTOWDYI\n",
    "print(str(df.shape[0]) + \" rows\")\n",
    "print(str(df.shape[1]) + \" columns\")"
   ]
  },
  {
   "cell_type": "code",
   "execution_count": 12,
   "metadata": {},
   "outputs": [
    {
     "name": "stdout",
     "output_type": "stream",
     "text": [
      "there are 645 unique ID values in the Scn Column\n"
     ]
    }
   ],
   "source": [
    "#Report how many unique id values (column Scn) \n",
    "unique_ids = len(df.Scn.unique()) \n",
    "print(\"there are\", unique_ids, \"unique ID values in the Scn Column\")"
   ]
  },
  {
   "cell_type": "markdown",
   "metadata": {},
   "source": [
    "# Phase 1.3: Plotting Scatterplot and Bar Plot must have titles,y axis and x axis names, non-default colors. 9 histograms (subfigures) do not have to have titles. 5pts"
   ]
  },
  {
   "cell_type": "code",
   "execution_count": 13,
   "metadata": {},
   "outputs": [
    {
     "data": {
      "image/png": "[encoded data removed]",
      "text/plain": [
       "<Figure size 432x288 with 9 Axes>"
      ]
     },
     "metadata": {
      "needs_background": "light"
     },
     "output_type": "display_data"
    }
   ],
   "source": [
    "pd.DataFrame.hist(df.loc[:, 'A2':'A10'], grid = False, color = 'y') #Draw histograms for columns A2-A10\n",
    "plt.tight_layout(rect=(0, 0, 1, 1))\n",
    "plt.show()"
   ]
  },
  {
   "cell_type": "code",
   "execution_count": 14,
   "metadata": {},
   "outputs": [],
   "source": [
    "df2 = pd.value_counts(df['CLASS'].values)"
   ]
  },
  {
   "cell_type": "code",
   "execution_count": 15,
   "metadata": {},
   "outputs": [
    {
     "name": "stdout",
     "output_type": "stream",
     "text": [
      "2    458\n",
      "4    241\n",
      "dtype: int64\n"
     ]
    }
   ],
   "source": [
    "print (df2)"
   ]
  },
  {
   "cell_type": "code",
   "execution_count": 16,
   "metadata": {},
   "outputs": [],
   "source": [
    "benign = df2[2]\n",
    "malignant = df2[4]"
   ]
  },
  {
   "cell_type": "code",
   "execution_count": 17,
   "metadata": {},
   "outputs": [
    {
     "data": {
      "image/png": "[encoded data removed]",
      "text/plain": [
       "<Figure size 432x288 with 1 Axes>"
      ]
     },
     "metadata": {
      "needs_background": "light"
     },
     "output_type": "display_data"
    }
   ],
   "source": [
    "#Draw a bar plot for CLASS\n",
    "df2[[2,4]] #getting errors using ['benign','malignant'] \n",
    "plt.title('Bar plot | Breast Cancer class counts')\n",
    "plt.xlabel('Class (2 = benign, 4 = malignant)')\n",
    "plt.ylabel('Values | Count')\n",
    "\n",
    "df2.plot.bar(color = (0.2,0.1,0.4))\n",
    "plt.show()"
   ]
  },
  {
   "cell_type": "code",
   "execution_count": 18,
   "metadata": {},
   "outputs": [
    {
     "data": {
      "image/png": "[encoded data removed]",
      "text/plain": [
       "<Figure size 432x288 with 1 Axes>"
      ]
     },
     "metadata": {
      "needs_background": "light"
     },
     "output_type": "display_data"
    }
   ],
   "source": [
    "#Draw a scatterplot of any two columns\n",
    "normal_nuclei = df['A9']\n",
    "mitosis = df['A10']\n",
    "plt.title('Pattern Separation Scatterplot | Normal_Nuclei(A9) vs. Mitosis(A10)')\n",
    "plt.xlabel('Normal_Nuclei(A9)')\n",
    "plt.ylabel('Mitosis(A10)')\n",
    "plt.scatter(normal_nuclei, mitosis, c='DarkBlue')\n",
    "plt.show()"
   ]
  },
  {
   "cell_type": "code",
   "execution_count": 19,
   "metadata": {},
   "outputs": [],
   "source": [
    "#Summarize by reporting which values might need standardization in the future (too much variation) \n",
    "# and any other observations that you may discover as a Data Scientist."
   ]
  },
  {
   "cell_type": "markdown",
   "metadata": {},
   "source": [
    "# PHASE 1: SUMMARY\n",
    "\n",
    "Using a Correlation matrix and visualizing with a heatmap (below), we observed that columns A3,A4 & A7 had correlation values of 0.817904, 0.818934 & 0.822696 (respectively) to the outcome variable CLASS (benign, malignant). \n",
    "\n",
    "These are the maximum correlations and highly signigifant, thus these would be the columns of high interst in future classifier models.\n",
    "\n",
    "With respect to standardization, we observed the highest variance in A7, A8 & A4 (3.544656, 3.437768 & 3.207439 Standard Deviations, respectively). \n",
    "\n",
    "Looking at the individual histograms (below), we also conclude that A7 (Bare Nuclei) has the widest bifurcation in values. With many 1's and 10's at the extremes. Additionally, A10 (Mitosis) had many 1's and few other values, so the least variance (STDEV). \n",
    "\n",
    "Overall, we plan to persue a ranked normalization based on these findings, prioritizing and ranking columns. \n",
    "Columns A7 (Bare Nuclei) would be the prioritized column to standardize. Since all columns besice Scn (IDs) & CLASS (response variable) are on the same scale of grading (1-10), Standardization to the column average & setting STDEV to 1 seems to be a good first pass normalization strategy.\n"
   ]
  },
  {
   "cell_type": "code",
   "execution_count": 20,
   "metadata": {},
   "outputs": [
    {
     "data": {
      "text/plain": [
       "<matplotlib.axes._subplots.AxesSubplot at 0x15e45e3e4a8>"
      ]
     },
     "execution_count": 20,
     "metadata": {},
     "output_type": "execute_result"
    },
    {
     "data": {
      "image/png": "[encoded data removed]",
      "text/plain": [
       "<Figure size 432x288 with 2 Axes>"
      ]
     },
     "metadata": {
      "needs_background": "light"
     },
     "output_type": "display_data"
    }
   ],
   "source": [
    "#create corelation matrix visualization to look for high co-variations with CLASS\n",
    "corr = df.corr()\n",
    "sns.heatmap(corr,xticklabels=corr.columns.values,yticklabels=corr.columns.values)\n",
    "# used https://stackoverflow.com/questions/39409866/correlation-heatmap as reference and code guide"
   ]
  },
  {
   "cell_type": "code",
   "execution_count": 21,
   "metadata": {
    "scrolled": false
   },
   "outputs": [
    {
     "name": "stdout",
     "output_type": "stream",
     "text": [
      "            Scn        A2        A3        A4        A5        A6        A7  \\\n",
      "A2    -0.055308  1.000000  0.644913  0.654589  0.486356  0.521816  0.593091   \n",
      "A3    -0.041603  0.644913  1.000000  0.906882  0.705582  0.751799  0.691709   \n",
      "A4    -0.041576  0.654589  0.906882  1.000000  0.683079  0.719668  0.713878   \n",
      "A5    -0.064878  0.486356  0.705582  0.683079  1.000000  0.599599  0.670648   \n",
      "A6    -0.045528  0.521816  0.751799  0.719668  0.599599  1.000000  0.585716   \n",
      "A7    -0.099248  0.593091  0.691709  0.713878  0.670648  0.585716  1.000000   \n",
      "A8    -0.060051  0.558428  0.755721  0.735948  0.666715  0.616102  0.680615   \n",
      "A9    -0.052072  0.535835  0.722865  0.719446  0.603352  0.628881  0.584280   \n",
      "A10   -0.034901  0.350034  0.458693  0.438911  0.417633  0.479101  0.339210   \n",
      "CLASS -0.080226  0.716001  0.817904  0.818934  0.696800  0.682785  0.822696   \n",
      "\n",
      "             A8        A9       A10     CLASS  \n",
      "A2     0.558428  0.535835  0.350034  0.716001  \n",
      "A3     0.755721  0.722865  0.458693  0.817904  \n",
      "A4     0.735948  0.719446  0.438911  0.818934  \n",
      "A5     0.666715  0.603352  0.417633  0.696800  \n",
      "A6     0.616102  0.628881  0.479101  0.682785  \n",
      "A7     0.680615  0.584280  0.339210  0.822696  \n",
      "A8     1.000000  0.665878  0.344169  0.756616  \n",
      "A9     0.665878  1.000000  0.428336  0.712244  \n",
      "A10    0.344169  0.428336  1.000000  0.423170  \n",
      "CLASS  0.756616  0.712244  0.423170  1.000000  \n"
     ]
    }
   ],
   "source": [
    "print(corr[1:11]) # Omit colum 0 (Scn) as it is the ID and not a measurement variable."
   ]
  },
  {
   "cell_type": "code",
   "execution_count": 22,
   "metadata": {
    "scrolled": false
   },
   "outputs": [
    {
     "data": {
      "image/png": "[encoded data removed]",
      "text/plain": [
       "<Figure size 432x288 with 1 Axes>"
      ]
     },
     "metadata": {
      "needs_background": "light"
     },
     "output_type": "display_data"
    },
    {
     "data": {
      "image/png": "[encoded data removed]",
      "text/plain": [
       "<Figure size 432x288 with 1 Axes>"
      ]
     },
     "metadata": {
      "needs_background": "light"
     },
     "output_type": "display_data"
    },
    {
     "data": {
      "image/png": "[encoded data removed]",
      "text/plain": [
       "<Figure size 432x288 with 1 Axes>"
      ]
     },
     "metadata": {
      "needs_background": "light"
     },
     "output_type": "display_data"
    },
    {
     "data": {
      "image/png": "[encoded data removed]",
      "text/plain": [
       "<Figure size 432x288 with 1 Axes>"
      ]
     },
     "metadata": {
      "needs_background": "light"
     },
     "output_type": "display_data"
    },
    {
     "data": {
      "image/png": "[encoded data removed]",
      "text/plain": [
       "<Figure size 432x288 with 1 Axes>"
      ]
     },
     "metadata": {
      "needs_background": "light"
     },
     "output_type": "display_data"
    },
    {
     "data": {
      "image/png": "[encoded data removed]",
      "text/plain": [
       "<Figure size 432x288 with 1 Axes>"
      ]
     },
     "metadata": {
      "needs_background": "light"
     },
     "output_type": "display_data"
    }
   ],
   "source": [
    "# individual histogram block for more detail and labeled axes\n",
    "\n",
    "pd.DataFrame.hist(df[['A3']], grid = False, color = 'g')\n",
    "plt.xlabel('A3 (Uniformity of Cell Size)')\n",
    "plt.tight_layout(rect=(0, 0, 1, 1))\n",
    "\n",
    "pd.DataFrame.hist(df[['A4']], grid = False, color = 'y')\n",
    "plt.xlabel('A4 (Uniformity of Cell Shape)')\n",
    "plt.tight_layout(rect=(0, 0, 1, 1))\n",
    "\n",
    "pd.DataFrame.hist(df[['A7']], grid = False, color = 'b')\n",
    "plt.xlabel('A7 (Bare Nuclei)')\n",
    "plt.tight_layout(rect=(0, 0, 1, 1))\n",
    "\n",
    "pd.DataFrame.hist(df[['A8']], grid = False, color = 'r')\n",
    "plt.xlabel('A8 (Bland Chromatin)')\n",
    "plt.tight_layout(rect=(0, 0, 1, 1))\n",
    "\n",
    "pd.DataFrame.hist(df[['A9']], grid = False, color = 'b')\n",
    "plt.xlabel('A9 (Normal Nuclei)')\n",
    "plt.tight_layout(rect=(0, 0, 1, 1))\n",
    "\n",
    "pd.DataFrame.hist(df[['A10']], grid = False, color = 'g')\n",
    "plt.xlabel('A10 (Mitosis)')\n",
    "plt.tight_layout(rect=(0, 0, 1, 1))\n",
    "\n",
    "plt.ylabel('count')\n",
    "plt.show()"
   ]
  },
  {
   "cell_type": "markdown",
   "metadata": {},
   "source": [
    "\n",
    "\n",
    "\n",
    "\n",
    "# PHASE 2 Due Dec 2, 2018\n",
    "In the second phase you will be implementing k-means algorithm\n",
    "(do not use column CLASS) 10pts\n",
    "\n",
    "continue working with cleaned breast cancer data from the phase 1 use only columns A2-A10"
   ]
  },
  {
   "cell_type": "markdown",
   "metadata": {},
   "source": [
    "# Phase 2.1: Use KMeans algorithm \n",
    "\n",
    "- Phase 2.1: import KMeans - use sklearn.cluster\n",
    "- Phase 2.2: create KMeans model for n_cluster = 4\n",
    "- Phase 2.3: fit model to your data"
   ]
  },
  {
   "cell_type": "code",
   "execution_count": 23,
   "metadata": {
    "scrolled": false
   },
   "outputs": [
    {
     "name": "stdout",
     "output_type": "stream",
     "text": [
      "\n",
      "\n",
      " cluster counts:\n",
      "\n",
      " 0    454\n",
      "2     94\n",
      "3     80\n",
      "1     71\n",
      "dtype: int64\n",
      "\n",
      "\n",
      " [0 2 0 1 0 3 0 0 0 0 0 0 0 0 3 1 0 0 2 0 2 1 0 1 0 2 0 0 0 0 0 0 1 0 0 0 1\n",
      " 0 2 2 1 1 3 1 1 0 2 0 0 1 1 0 1 3 2 1 1 1 2 1 1 0 1 1 0 1 0 2 3 0 0 1 0 2\n",
      " 1 0 0 0 0 0 0 0 0 0 3 1 2 3 0 0 0 0 0 0 0 0 0 0 1 3 1 0 0 0 3 0 2 3 0 2 0\n",
      " 2 2 3 0 0 0 3 0 0 0 0 3 2 3 0 2 0 2 0 0 0 3 0 0 0 0 0 0 0 0 0 2 0 0 0 2 0\n",
      " 0 3 0 2 1 0 0 2 0 0 0 3 2 0 0 0 0 0 3 1 0 0 0 0 0 3 2 3 0 1 0 2 0 0 0 3 2\n",
      " 0 3 3 3 0 3 3 0 0 0 0 2 0 0 0 3 2 0 0 0 3 1 0 0 0 3 3 0 3 3 1 0 0 1 0 0 3\n",
      " 0 2 2 0 2 1 0 3 2 3 1 2 0 0 3 1 3 2 0 0 0 0 0 0 3 2 0 0 0 2 2 3 1 2 0 0 0\n",
      " 2 2 3 3 2 1 0 2 2 1 0 2 0 2 0 0 0 0 0 0 2 0 0 2 2 2 3 3 0 1 3 0 0 1 2 0 2\n",
      " 1 0 0 2 1 0 3 0 2 2 0 0 1 0 0 0 1 0 0 1 2 3 0 2 2 0 0 2 0 0 2 0 1 2 2 0 0\n",
      " 2 2 0 2 0 0 2 2 0 0 0 3 0 0 0 1 2 0 0 1 3 0 0 0 3 1 2 3 2 0 0 0 0 3 3 0 0\n",
      " 0 0 0 0 0 0 0 0 0 0 0 2 0 0 0 0 2 0 0 0 0 3 0 0 0 0 0 0 0 0 3 0 0 0 0 0 0\n",
      " 0 0 0 0 0 1 0 2 0 2 0 0 0 0 3 0 0 0 3 0 1 0 0 0 0 0 0 2 2 1 0 0 0 2 0 0 0\n",
      " 0 0 0 0 0 3 0 0 0 3 0 0 2 1 0 0 0 0 0 0 0 1 2 2 0 0 0 0 0 0 0 0 0 0 0 3 0\n",
      " 0 3 3 0 0 0 3 1 0 0 2 0 3 2 0 0 0 0 0 0 0 0 0 0 0 3 0 0 0 0 0 0 0 3 3 0 0\n",
      " 0 2 0 0 2 2 0 0 0 0 0 0 2 0 0 0 0 0 0 0 0 0 0 0 0 0 0 0 3 0 0 1 0 0 0 0 0\n",
      " 0 0 0 0 0 0 0 0 0 0 3 0 0 2 3 2 3 0 0 1 0 0 0 0 0 0 3 3 0 0 0 3 0 1 0 1 2\n",
      " 2 0 2 0 0 0 0 0 0 0 0 1 2 1 0 0 3 0 2 1 3 0 0 0 0 0 0 0 0 0 0 0 0 0 1 0 0\n",
      " 0 0 0 0 1 0 0 1 0 0 0 0 0 0 0 0 0 0 0 3 0 0 0 0 0 0 0 0 1 2 0 0 0 0 0 0 0\n",
      " 0 0 1 3 3 0 0 0 0 0 0 0 0 0 3 3 0 0 0 0 0 0 0 0 0 1 0 0 0 0 1 1 1]\n",
      "\n",
      " length of labels-object: 699\n"
     ]
    }
   ],
   "source": [
    "from sklearn.cluster import KMeans\n",
    "\n",
    "df_noclass = df_clean.loc[:, 'A2':'A10'] \n",
    "# exclude Scn + CLASS column\n",
    "\n",
    "model = KMeans(n_clusters = 4)\n",
    "model.fit(df_noclass) \n",
    "labels_k4 = model.predict(df_noclass)\n",
    "\n",
    "print('\\n\\n cluster counts:\\n\\n', pd.value_counts(labels_k4)) #how many of each class\n",
    "print ('\\n\\n', labels_k4)\n",
    "#code from DataCamp \"unsupervised learning in python\" as giude source\n",
    "\n",
    "print('\\n length of labels-object:',len(labels_k4)) \n",
    "#check for 699 values\n",
    "#so all rows have a call and range from 0-3 (4 classes)"
   ]
  },
  {
   "cell_type": "markdown",
   "metadata": {},
   "source": [
    "# Phase 2.2: Calculate centroids \n",
    "\n",
    "print centroids - you should have a matrix with 4 row (4 clusters) and 9 columns (for each A column)"
   ]
  },
  {
   "cell_type": "code",
   "execution_count": 24,
   "metadata": {
    "scrolled": false
   },
   "outputs": [
    {
     "name": "stdout",
     "output_type": "stream",
     "text": [
      "\n",
      " size / shape of centroids-object (rows, columns): (4, 9)\n",
      "\n",
      " type of centroids-object: <class 'numpy.ndarray'>\n",
      "\n",
      " centroid min: 1.077092511013221\n",
      "\n",
      " centroid max: 9.382978723404246\n",
      "\n",
      " centroids-array:\n",
      " [[2.94493392 1.24449339 1.36563877 1.29295154 2.03964758 1.3514006\n",
      "  2.06167401 1.20044053 1.07709251]\n",
      " [7.46478873 7.02816901 6.67605634 4.1971831  5.53521127 3.45322005\n",
      "  5.38028169 6.81690141 2.30985915]\n",
      " [7.23404255 4.85106383 5.04255319 4.86170213 4.11702128 9.38297872\n",
      "  5.26595745 3.78723404 1.64893617]\n",
      " [6.7625     8.3875     8.425      7.75       6.775      9.2125\n",
      "  7.375      7.7375     3.7875    ]]\n"
     ]
    },
    {
     "data": {
      "image/png": "[encoded data removed]",
      "text/plain": [
       "<Figure size 432x288 with 1 Axes>"
      ]
     },
     "metadata": {
      "needs_background": "light"
     },
     "output_type": "display_data"
    },
    {
     "data": {
      "image/png": "[encoded data removed]",
      "text/plain": [
       "<Figure size 432x288 with 1 Axes>"
      ]
     },
     "metadata": {
      "needs_background": "light"
     },
     "output_type": "display_data"
    },
    {
     "data": {
      "image/png": "[encoded data removed]",
      "text/plain": [
       "<Figure size 432x288 with 1 Axes>"
      ]
     },
     "metadata": {
      "needs_background": "light"
     },
     "output_type": "display_data"
    },
    {
     "data": {
      "image/png": "[encoded data removed]",
      "text/plain": [
       "<Figure size 432x288 with 1 Axes>"
      ]
     },
     "metadata": {
      "needs_background": "light"
     },
     "output_type": "display_data"
    }
   ],
   "source": [
    "#\n",
    "centroids = model.cluster_centers_\n",
    "print(\"\\n size / shape of centroids-object (rows, columns):\", centroids.shape)\n",
    "print(\"\\n type of centroids-object:\",type(centroids))\n",
    "print(\"\\n centroid min:\", centroids.min())\n",
    "print(\"\\n centroid max:\", centroids.max())\n",
    "print('\\n centroids-array:\\n', centroids)\n",
    "\n",
    "# data viz of centroids\n",
    "centroids_0 = centroids[0,:]\n",
    "centroids_1 = centroids[1,:]\n",
    "centroids_2 = centroids[2,:]\n",
    "centroids_3 = centroids[3,:]\n",
    "\n",
    "x = list(range(1,10))\n",
    "\n",
    "plt.scatter(centroids_0, x, marker = 'P', color = 'r', s=100)\n",
    "plt.title(\"Centroids_0\")\n",
    "plt.xlim([1, 10])\n",
    "plt.show()\n",
    "\n",
    "plt.scatter(centroids_1, x, marker = 'D', color = 'y', s=100)\n",
    "plt.title(\"Centroids_1\")\n",
    "plt.xlim([1, 10])\n",
    "plt.show()\n",
    "\n",
    "plt.scatter(centroids_2, x, marker = 'o', color = 'g', s=100)\n",
    "plt.title(\"Centroids_2\")\n",
    "plt.xlim([1, 10])\n",
    "plt.show()\n",
    "\n",
    "plt.scatter(centroids_3, x, marker = 's', color = 'b', s=100)\n",
    "plt.title(\"Centroids_3\")\n",
    "plt.xlim([1, 10])\n",
    "plt.show()\n",
    "\n"
   ]
  },
  {
   "cell_type": "markdown",
   "metadata": {},
   "source": [
    "# Phase 2.3: Find the optimal number of clusters \n",
    "\n",
    "1. calculate inertia: (10 pts)\n",
    "\n",
    "2. create a range from 1 to 15 or more\n",
    "\n",
    "3. create an empty list for inertias values\n",
    "\n",
    "4. use for loop to calculate KMeans for each values\n",
    "\n",
    "5. plot range and inertia\n",
    "\n",
    "6. Add title, ylabel, xlabel\n",
    "\n",
    "7. specify the optimal number of clustes based on the inertia plot"
   ]
  },
  {
   "cell_type": "code",
   "execution_count": 25,
   "metadata": {},
   "outputs": [
    {
     "data": {
      "image/png": "[encoded data removed]",
      "text/plain": [
       "<Figure size 432x288 with 1 Axes>"
      ]
     },
     "metadata": {
      "needs_background": "light"
     },
     "output_type": "display_data"
    },
    {
     "name": "stdout",
     "output_type": "stream",
     "text": [
      "Optimun Custer Sze = 2 | Based on inflection point, \"elbow\")\n"
     ]
    }
   ],
   "source": [
    "#code from DataCamp \"unsupervised learning in python\" as giude source\n",
    "#find max / min inertia\n",
    "\n",
    "ks = range(1, 15)\n",
    "inertias = []\n",
    "\n",
    "for k in ks:\n",
    "    model = KMeans(n_clusters = k)\n",
    "    model.fit(df_noclass)\n",
    "    inertias.append(model.inertia_)\n",
    "    \n",
    "# Plot ks vs inertias\n",
    "plt.plot(ks, inertias, '-og')\n",
    "plt.title('inertias caluculated for varying cluster sizes')\n",
    "#plot.set(ylabel='Inertia')\n",
    "plt.xlabel('clusters (k)')\n",
    "#plt.ylabel('inertia')\n",
    "plt.xticks(ks)\n",
    "plt.show()\n",
    "\n",
    "print('Optimun Custer Sze = 2 | Based on inflection point, \"elbow\")')"
   ]
  },
  {
   "cell_type": "markdown",
   "metadata": {},
   "source": [
    "# Phase 2.4: Revise data variation 10pts\n",
    "\n",
    "1. apply standard deviation function for columns A2-A10\n",
    "\n",
    "2. plot standard deviation values - select a graphic that could display all nine values [do not use histogram], add title, legend, ylabel, xlabel. \n",
    "\n",
    "Can you capture how wide or narrow is the variation in each column?\n",
    "describe which features have a lot of data variation"
   ]
  },
  {
   "cell_type": "code",
   "execution_count": 26,
   "metadata": {},
   "outputs": [
    {
     "data": {
      "image/png": "[encoded data removed]",
      "text/plain": [
       "<Figure size 432x288 with 1 Axes>"
      ]
     },
     "metadata": {
      "needs_background": "light"
     },
     "output_type": "display_data"
    },
    {
     "name": "stdout",
     "output_type": "stream",
     "text": [
      "highest standard deviation (variation) is seen on A7, and A5,A7,A9 & A10 have STDEV > Mean\n"
     ]
    },
    {
     "data": {
      "text/html": [
       "<div>\n",
       "<style scoped>\n",
       "    .dataframe tbody tr th:only-of-type {\n",
       "        vertical-align: middle;\n",
       "    }\n",
       "\n",
       "    .dataframe tbody tr th {\n",
       "        vertical-align: top;\n",
       "    }\n",
       "\n",
       "    .dataframe thead th {\n",
       "        text-align: right;\n",
       "    }\n",
       "</style>\n",
       "<table border=\"1\" class=\"dataframe\">\n",
       "  <thead>\n",
       "    <tr style=\"text-align: right;\">\n",
       "      <th></th>\n",
       "      <th>A2</th>\n",
       "      <th>A3</th>\n",
       "      <th>A4</th>\n",
       "      <th>A5</th>\n",
       "      <th>A6</th>\n",
       "      <th>A7</th>\n",
       "      <th>A8</th>\n",
       "      <th>A9</th>\n",
       "      <th>A10</th>\n",
       "    </tr>\n",
       "  </thead>\n",
       "  <tbody>\n",
       "    <tr>\n",
       "      <th>count</th>\n",
       "      <td>699.000000</td>\n",
       "      <td>699.000000</td>\n",
       "      <td>699.000000</td>\n",
       "      <td>699.000000</td>\n",
       "      <td>699.000000</td>\n",
       "      <td>699.000000</td>\n",
       "      <td>699.000000</td>\n",
       "      <td>699.000000</td>\n",
       "      <td>699.000000</td>\n",
       "    </tr>\n",
       "    <tr>\n",
       "      <th>mean</th>\n",
       "      <td>4.417740</td>\n",
       "      <td>3.134478</td>\n",
       "      <td>3.207439</td>\n",
       "      <td>2.806867</td>\n",
       "      <td>3.216023</td>\n",
       "      <td>3.544656</td>\n",
       "      <td>3.437768</td>\n",
       "      <td>2.866953</td>\n",
       "      <td>1.589413</td>\n",
       "    </tr>\n",
       "    <tr>\n",
       "      <th>std</th>\n",
       "      <td>2.815741</td>\n",
       "      <td>3.051459</td>\n",
       "      <td>2.971913</td>\n",
       "      <td>2.855379</td>\n",
       "      <td>2.214300</td>\n",
       "      <td>3.601852</td>\n",
       "      <td>2.438364</td>\n",
       "      <td>3.053634</td>\n",
       "      <td>1.715078</td>\n",
       "    </tr>\n",
       "    <tr>\n",
       "      <th>min</th>\n",
       "      <td>1.000000</td>\n",
       "      <td>1.000000</td>\n",
       "      <td>1.000000</td>\n",
       "      <td>1.000000</td>\n",
       "      <td>1.000000</td>\n",
       "      <td>1.000000</td>\n",
       "      <td>1.000000</td>\n",
       "      <td>1.000000</td>\n",
       "      <td>1.000000</td>\n",
       "    </tr>\n",
       "    <tr>\n",
       "      <th>25%</th>\n",
       "      <td>2.000000</td>\n",
       "      <td>1.000000</td>\n",
       "      <td>1.000000</td>\n",
       "      <td>1.000000</td>\n",
       "      <td>2.000000</td>\n",
       "      <td>1.000000</td>\n",
       "      <td>2.000000</td>\n",
       "      <td>1.000000</td>\n",
       "      <td>1.000000</td>\n",
       "    </tr>\n",
       "    <tr>\n",
       "      <th>50%</th>\n",
       "      <td>4.000000</td>\n",
       "      <td>1.000000</td>\n",
       "      <td>1.000000</td>\n",
       "      <td>1.000000</td>\n",
       "      <td>2.000000</td>\n",
       "      <td>1.000000</td>\n",
       "      <td>3.000000</td>\n",
       "      <td>1.000000</td>\n",
       "      <td>1.000000</td>\n",
       "    </tr>\n",
       "    <tr>\n",
       "      <th>75%</th>\n",
       "      <td>6.000000</td>\n",
       "      <td>5.000000</td>\n",
       "      <td>5.000000</td>\n",
       "      <td>4.000000</td>\n",
       "      <td>4.000000</td>\n",
       "      <td>5.000000</td>\n",
       "      <td>5.000000</td>\n",
       "      <td>4.000000</td>\n",
       "      <td>1.000000</td>\n",
       "    </tr>\n",
       "    <tr>\n",
       "      <th>max</th>\n",
       "      <td>10.000000</td>\n",
       "      <td>10.000000</td>\n",
       "      <td>10.000000</td>\n",
       "      <td>10.000000</td>\n",
       "      <td>10.000000</td>\n",
       "      <td>10.000000</td>\n",
       "      <td>10.000000</td>\n",
       "      <td>10.000000</td>\n",
       "      <td>10.000000</td>\n",
       "    </tr>\n",
       "  </tbody>\n",
       "</table>\n",
       "</div>"
      ],
      "text/plain": [
       "               A2          A3          A4          A5          A6          A7  \\\n",
       "count  699.000000  699.000000  699.000000  699.000000  699.000000  699.000000   \n",
       "mean     4.417740    3.134478    3.207439    2.806867    3.216023    3.544656   \n",
       "std      2.815741    3.051459    2.971913    2.855379    2.214300    3.601852   \n",
       "min      1.000000    1.000000    1.000000    1.000000    1.000000    1.000000   \n",
       "25%      2.000000    1.000000    1.000000    1.000000    2.000000    1.000000   \n",
       "50%      4.000000    1.000000    1.000000    1.000000    2.000000    1.000000   \n",
       "75%      6.000000    5.000000    5.000000    4.000000    4.000000    5.000000   \n",
       "max     10.000000   10.000000   10.000000   10.000000   10.000000   10.000000   \n",
       "\n",
       "               A8          A9         A10  \n",
       "count  699.000000  699.000000  699.000000  \n",
       "mean     3.437768    2.866953    1.589413  \n",
       "std      2.438364    3.053634    1.715078  \n",
       "min      1.000000    1.000000    1.000000  \n",
       "25%      2.000000    1.000000    1.000000  \n",
       "50%      3.000000    1.000000    1.000000  \n",
       "75%      5.000000    4.000000    1.000000  \n",
       "max     10.000000   10.000000   10.000000  "
      ]
     },
     "execution_count": 26,
     "metadata": {},
     "output_type": "execute_result"
    }
   ],
   "source": [
    "avg = np.mean(df_noclass) #print(avg)\n",
    "dev = np.std(df_noclass) #print(dev)\n",
    "\n",
    "plot = sns.barplot(x=x, y=avg, yerr=dev) # x is a list (1:9) from range(1,10)\n",
    "#plt.bar(x, avg, yerr = dev)\n",
    "plot.set(xlabel = 'Column / Measure', ylabel='Mean')\n",
    "plt.title('Varaince (mean+stdev) of tumor measures', size = 18)\n",
    "plt.xticks(np.arange(9), df_noclass.columns.values)\n",
    "plt.legend(dev, bbox_to_anchor=(1,1), loc='upper left')\n",
    "plt.show()\n",
    "\n",
    "print('highest standard deviation (variation) is seen on A7, and A5,A7,A9 & A10 have STDEV > Mean')\n",
    "df_noclass.describe() \n",
    "#note that np.std has slightly different (not significant) values than in describe() function (pandas)\n",
    "\n"
   ]
  },
  {
   "cell_type": "markdown",
   "metadata": {},
   "source": [
    "# Phase 2.5: Implement normalization\n",
    "\n",
    "import make_pipeline - use sklearn.pipeline \n",
    "import StandardScaler\n",
    "review datacamp if needed on how to create a pipeline\n",
    "\n",
    "use the n_cluster based on the optimal number you have identified from Inertia\n",
    "find centroids and print them\n",
    "\n",
    "Update your github code 2pts\n",
    "Update your notebook\n",
    "Update your readme file with contribution by each member for phase 2\n",
    "Submit updated version of notebook and your link to github into Phase 2 assignment [one person submit on behalf of your group]"
   ]
  },
  {
   "cell_type": "code",
   "execution_count": 27,
   "metadata": {
    "scrolled": false
   },
   "outputs": [
    {
     "name": "stdout",
     "output_type": "stream",
     "text": [
      "\n",
      "\n",
      " scaled_counts:\n",
      " 1    464\n",
      "0    235\n",
      "dtype: int64\n",
      "\n",
      "\n",
      " labels_scaled:\n",
      " [1 0 1 0 1 0 1 1 1 1 1 1 1 1 0 0 1 1 0 1 0 0 1 0 1 1 1 1 1 1 1 1 0 1 1 1 0\n",
      " 1 0 0 0 0 0 0 0 1 0 1 1 0 0 1 0 0 0 0 0 1 1 1 0 1 0 1 1 0 1 0 0 1 1 0 1 0\n",
      " 0 1 1 1 1 1 1 1 1 1 0 0 0 0 1 1 1 1 1 1 1 1 1 1 0 0 0 1 1 1 0 0 0 0 1 0 1\n",
      " 0 0 0 1 1 1 0 1 1 1 1 0 0 0 1 0 1 0 1 1 1 0 1 1 1 1 1 1 1 1 1 0 1 1 1 1 1\n",
      " 1 0 1 0 0 1 1 0 1 1 1 0 0 1 1 1 1 1 0 0 1 1 1 1 1 0 0 0 1 0 1 0 1 1 1 0 0\n",
      " 1 0 0 0 1 0 0 1 1 1 1 0 1 1 1 0 0 1 1 1 0 0 1 1 1 0 0 1 0 0 0 1 1 0 1 1 0\n",
      " 1 0 0 1 0 0 1 0 0 0 1 0 1 1 0 0 0 0 1 1 1 1 1 1 0 1 1 1 1 0 0 0 0 0 1 1 1\n",
      " 0 0 0 0 0 0 1 0 0 0 1 0 1 0 1 1 1 1 1 1 0 1 1 0 0 0 0 0 1 0 0 1 1 0 0 1 0\n",
      " 0 1 1 0 0 1 0 1 0 0 1 1 0 1 1 1 0 1 1 0 0 0 1 0 0 1 1 0 1 1 1 1 0 0 0 1 1\n",
      " 0 0 1 0 1 1 0 0 1 1 1 0 1 1 1 1 0 1 1 0 0 1 1 1 0 0 0 0 0 1 1 1 1 0 0 1 1\n",
      " 1 1 1 1 1 1 1 1 1 1 1 0 1 1 1 1 0 1 1 1 1 0 1 1 1 1 1 1 1 1 0 1 1 1 1 1 1\n",
      " 1 1 1 1 1 0 1 0 1 0 1 1 1 1 0 1 1 1 0 1 0 1 1 1 1 1 1 0 0 0 1 1 1 0 1 1 1\n",
      " 1 1 1 1 1 0 1 1 1 0 1 1 0 0 1 1 1 1 1 1 1 0 0 0 1 1 1 1 1 1 1 1 1 1 1 0 1\n",
      " 1 0 0 1 1 1 0 0 1 1 0 1 0 1 1 1 1 1 1 1 1 1 1 1 1 0 1 1 1 1 1 1 1 0 0 1 1\n",
      " 1 0 1 1 0 0 1 1 1 1 1 1 0 1 1 1 1 1 1 1 1 1 1 1 1 1 1 1 0 1 1 0 1 1 1 1 1\n",
      " 1 1 1 1 1 1 1 1 1 1 0 1 1 0 0 0 0 1 1 0 1 1 1 1 1 1 0 0 1 1 1 0 1 0 1 0 0\n",
      " 0 1 0 1 1 1 1 1 1 1 1 0 0 0 1 1 0 1 0 0 0 1 1 1 1 1 1 1 1 1 1 1 1 1 0 1 1\n",
      " 1 1 1 1 0 1 1 0 1 1 1 1 1 1 1 1 1 1 1 0 1 1 1 1 1 1 1 1 0 0 1 1 1 1 1 1 1\n",
      " 1 1 0 0 0 1 1 1 1 1 1 1 1 1 0 0 1 1 1 1 1 1 1 1 1 0 1 1 1 1 0 0 0]\n",
      "\n",
      "\n",
      " normalized_counts:\n",
      " 0    425\n",
      "1    274\n",
      "dtype: int64\n",
      "\n",
      "\n",
      " labels_normalized:\n",
      " [1 0 1 0 1 0 0 0 0 1 0 0 0 0 0 1 1 1 0 1 0 0 1 1 0 0 1 1 0 0 1 0 1 0 1 0 0\n",
      " 1 0 0 0 1 0 0 0 0 0 0 1 0 1 0 1 0 0 1 0 1 0 1 0 0 0 0 0 1 1 0 0 0 1 0 0 0\n",
      " 1 0 0 1 0 0 0 1 1 0 0 0 0 0 1 0 0 1 1 0 0 0 0 1 0 0 1 0 1 1 0 1 0 0 0 0 0\n",
      " 0 0 0 0 0 1 0 0 0 0 1 0 0 0 0 0 1 0 0 1 0 0 1 1 1 1 1 1 0 1 1 1 0 0 0 0 0\n",
      " 0 0 0 0 0 1 0 0 0 0 0 0 0 1 1 0 1 1 0 1 1 0 1 0 0 0 0 0 0 0 1 0 0 0 1 0 0\n",
      " 0 0 0 0 0 0 0 1 0 1 1 0 1 0 1 0 0 0 1 0 0 0 0 0 1 0 0 0 0 0 0 0 0 0 1 0 0\n",
      " 0 0 0 0 0 0 0 0 0 0 1 1 0 0 0 0 0 1 1 1 0 0 0 1 0 0 1 0 0 0 0 0 0 0 1 1 1\n",
      " 0 0 0 0 0 0 1 0 0 0 0 0 1 0 1 1 0 1 0 0 1 1 0 0 1 0 0 0 1 0 0 0 0 0 1 0 0\n",
      " 0 0 1 0 0 0 0 0 0 0 0 0 0 0 0 0 0 0 0 0 0 0 0 0 0 0 1 0 0 0 1 0 0 0 1 1 1\n",
      " 0 0 0 0 0 0 0 1 0 1 0 0 0 1 0 0 0 1 0 0 0 0 1 1 0 0 1 0 0 0 0 0 0 0 0 0 0\n",
      " 1 0 1 1 1 0 0 0 0 1 0 0 0 1 1 0 0 1 0 1 0 0 1 0 0 1 1 1 1 0 0 1 1 0 0 0 1\n",
      " 0 0 1 0 0 0 1 0 0 0 0 1 0 0 0 1 1 1 0 1 0 0 0 0 1 1 1 0 0 1 1 1 1 0 1 0 0\n",
      " 1 1 0 1 0 0 1 1 1 0 0 1 0 0 1 1 1 0 1 1 1 0 0 0 1 0 1 1 1 1 1 1 1 1 1 0 1\n",
      " 1 0 0 1 0 1 0 0 1 0 0 1 0 0 1 0 1 1 1 1 1 1 1 0 1 0 0 1 1 0 1 1 1 0 0 0 0\n",
      " 1 0 0 1 1 0 1 1 1 1 1 1 0 1 0 1 0 0 1 1 1 1 1 1 1 1 0 1 0 1 1 0 1 0 0 0 1\n",
      " 0 1 1 0 1 1 1 0 1 1 0 1 1 0 0 0 0 1 0 1 1 1 0 0 0 1 0 0 1 1 0 0 1 0 1 0 0\n",
      " 1 1 0 1 1 1 1 1 1 0 1 0 0 0 1 0 0 1 0 0 0 0 1 1 1 0 1 1 1 1 1 0 1 0 0 0 1\n",
      " 1 1 1 0 0 1 1 0 0 1 1 1 1 1 0 1 1 0 0 0 1 0 0 1 1 1 1 1 0 0 0 0 1 0 0 1 0\n",
      " 1 1 0 0 0 1 0 1 0 1 0 1 0 1 0 0 1 0 0 0 0 1 1 0 0 0 1 1 1 1 0 0 0]\n",
      "\n",
      "\n",
      " labels_k2_counts:\n",
      " 0    466\n",
      "1    233\n",
      "dtype: int64\n",
      "\n",
      "\n",
      " labels_k2:\n",
      " [0 1 0 1 0 1 0 0 0 0 0 0 0 0 1 0 0 0 1 0 1 1 0 0 0 0 0 0 0 0 0 0 1 0 0 0 1\n",
      " 0 1 1 1 1 1 1 1 0 1 0 0 1 0 0 1 1 1 1 1 0 1 0 1 0 1 0 0 0 0 1 1 0 0 1 0 1\n",
      " 1 0 0 0 0 0 0 0 0 0 1 1 1 1 0 0 0 0 0 0 0 0 0 0 1 1 1 0 0 0 1 0 1 1 0 1 0\n",
      " 1 1 1 0 0 0 1 0 0 0 0 1 1 1 0 1 0 1 0 0 0 1 0 0 0 0 0 0 0 0 0 1 0 0 0 1 0\n",
      " 0 1 0 1 1 0 0 1 0 0 0 1 1 0 0 0 0 0 1 1 0 0 0 0 0 1 1 1 0 1 0 1 0 0 0 1 1\n",
      " 0 1 1 1 0 1 1 0 0 0 0 1 0 0 0 1 1 0 0 0 1 1 0 0 0 1 1 0 1 1 1 0 0 1 0 0 1\n",
      " 0 1 1 0 1 1 0 1 1 1 0 1 0 0 1 1 1 1 0 0 0 0 0 0 1 1 0 0 0 1 1 1 1 1 0 0 0\n",
      " 1 1 1 1 1 1 0 1 1 1 0 1 0 1 0 0 0 0 0 0 1 0 0 1 1 1 1 1 0 1 1 0 0 1 1 0 1\n",
      " 1 0 0 1 1 0 1 0 1 1 0 0 1 0 0 0 1 0 0 1 1 1 0 1 1 0 0 1 0 0 1 0 1 1 1 0 0\n",
      " 1 1 0 1 0 0 1 1 0 0 0 1 0 0 0 0 1 0 0 1 1 0 0 0 1 1 1 1 1 0 0 0 0 1 1 0 0\n",
      " 0 0 0 0 0 0 0 0 0 0 0 1 0 0 0 0 1 0 0 0 0 1 0 0 0 0 0 0 0 0 1 0 0 0 0 0 0\n",
      " 0 0 0 0 0 1 0 1 0 1 0 0 0 0 1 0 0 0 1 0 1 0 0 0 0 0 0 1 1 1 0 0 0 1 0 0 0\n",
      " 0 0 0 0 0 1 0 0 0 1 0 0 1 1 0 0 0 0 0 0 0 1 1 1 0 0 0 0 0 0 0 0 0 0 0 1 0\n",
      " 0 1 1 0 0 0 1 1 0 0 1 0 1 0 0 0 0 0 0 0 0 0 0 0 0 1 0 0 0 0 0 0 0 1 1 0 0\n",
      " 0 1 0 0 1 1 0 0 0 0 0 0 1 0 0 0 0 0 0 0 0 0 0 0 0 0 0 0 1 0 0 1 0 0 0 0 0\n",
      " 0 0 0 0 0 0 0 0 0 0 1 0 0 1 1 1 1 0 0 1 0 0 0 0 0 0 1 1 0 0 0 1 0 1 0 1 1\n",
      " 1 0 1 0 0 0 0 0 0 0 0 1 1 1 0 0 1 0 1 1 1 0 0 0 0 0 0 0 0 0 0 0 0 0 1 0 0\n",
      " 0 0 0 0 1 0 0 1 0 0 0 0 0 0 0 0 0 0 0 1 0 0 0 0 0 0 0 0 0 1 0 0 0 0 0 0 0\n",
      " 0 0 1 1 1 0 0 0 0 0 0 0 0 0 1 1 0 0 0 0 0 0 0 0 0 1 0 0 0 0 1 1 1]\n",
      "\n",
      "\n",
      " labels_k4_counts:\n",
      " 0    454\n",
      "2     94\n",
      "3     80\n",
      "1     71\n",
      "dtype: int64\n",
      "\n",
      "\n",
      " labels_k4: \n",
      " [0 2 0 1 0 3 0 0 0 0 0 0 0 0 3 1 0 0 2 0 2 1 0 1 0 2 0 0 0 0 0 0 1 0 0 0 1\n",
      " 0 2 2 1 1 3 1 1 0 2 0 0 1 1 0 1 3 2 1 1 1 2 1 1 0 1 1 0 1 0 2 3 0 0 1 0 2\n",
      " 1 0 0 0 0 0 0 0 0 0 3 1 2 3 0 0 0 0 0 0 0 0 0 0 1 3 1 0 0 0 3 0 2 3 0 2 0\n",
      " 2 2 3 0 0 0 3 0 0 0 0 3 2 3 0 2 0 2 0 0 0 3 0 0 0 0 0 0 0 0 0 2 0 0 0 2 0\n",
      " 0 3 0 2 1 0 0 2 0 0 0 3 2 0 0 0 0 0 3 1 0 0 0 0 0 3 2 3 0 1 0 2 0 0 0 3 2\n",
      " 0 3 3 3 0 3 3 0 0 0 0 2 0 0 0 3 2 0 0 0 3 1 0 0 0 3 3 0 3 3 1 0 0 1 0 0 3\n",
      " 0 2 2 0 2 1 0 3 2 3 1 2 0 0 3 1 3 2 0 0 0 0 0 0 3 2 0 0 0 2 2 3 1 2 0 0 0\n",
      " 2 2 3 3 2 1 0 2 2 1 0 2 0 2 0 0 0 0 0 0 2 0 0 2 2 2 3 3 0 1 3 0 0 1 2 0 2\n",
      " 1 0 0 2 1 0 3 0 2 2 0 0 1 0 0 0 1 0 0 1 2 3 0 2 2 0 0 2 0 0 2 0 1 2 2 0 0\n",
      " 2 2 0 2 0 0 2 2 0 0 0 3 0 0 0 1 2 0 0 1 3 0 0 0 3 1 2 3 2 0 0 0 0 3 3 0 0\n",
      " 0 0 0 0 0 0 0 0 0 0 0 2 0 0 0 0 2 0 0 0 0 3 0 0 0 0 0 0 0 0 3 0 0 0 0 0 0\n",
      " 0 0 0 0 0 1 0 2 0 2 0 0 0 0 3 0 0 0 3 0 1 0 0 0 0 0 0 2 2 1 0 0 0 2 0 0 0\n",
      " 0 0 0 0 0 3 0 0 0 3 0 0 2 1 0 0 0 0 0 0 0 1 2 2 0 0 0 0 0 0 0 0 0 0 0 3 0\n",
      " 0 3 3 0 0 0 3 1 0 0 2 0 3 2 0 0 0 0 0 0 0 0 0 0 0 3 0 0 0 0 0 0 0 3 3 0 0\n",
      " 0 2 0 0 2 2 0 0 0 0 0 0 2 0 0 0 0 0 0 0 0 0 0 0 0 0 0 0 3 0 0 1 0 0 0 0 0\n",
      " 0 0 0 0 0 0 0 0 0 0 3 0 0 2 3 2 3 0 0 1 0 0 0 0 0 0 3 3 0 0 0 3 0 1 0 1 2\n",
      " 2 0 2 0 0 0 0 0 0 0 0 1 2 1 0 0 3 0 2 1 3 0 0 0 0 0 0 0 0 0 0 0 0 0 1 0 0\n",
      " 0 0 0 0 1 0 0 1 0 0 0 0 0 0 0 0 0 0 0 3 0 0 0 0 0 0 0 0 1 2 0 0 0 0 0 0 0\n",
      " 0 0 1 3 3 0 0 0 0 0 0 0 0 0 3 3 0 0 0 0 0 0 0 0 0 1 0 0 0 0 1 1 1]\n"
     ]
    }
   ],
   "source": [
    "from sklearn.pipeline import make_pipeline\n",
    "from sklearn.preprocessing import Normalizer\n",
    "from sklearn.preprocessing import StandardScaler\n",
    "from sklearn.cluster import KMeans\n",
    "\n",
    "# use Standard Scaler for pre-prosessing\n",
    "scaler = StandardScaler()\n",
    "kmeans = KMeans(n_clusters=2, n_init=20, max_iter=500)\n",
    "\n",
    "pipeline_scaled = make_pipeline(scaler, kmeans) #create a pipeline\n",
    "pipeline_scaled.fit(df_noclass) # Fit the pipeline to samples\n",
    "\n",
    "# Calculate the cluster labels: labels\n",
    "labels_scaled = pipeline_scaled.predict(df_noclass)\n",
    "print('\\n\\n scaled_counts:\\n', pd.value_counts(labels_scaled)) #how many of each class\n",
    "print('\\n\\n labels_scaled:\\n', labels_scaled)\n",
    "#model_scaled = kmeans.fit(df_noclass)\n",
    "#print('\\n Scaled Centroids:\\n',model_scaled.cluster_centers_) #find centroids and print them\n",
    "\n",
    "\n",
    "#use Normalizer for pre-processing\n",
    "normalizer = Normalizer()\n",
    "kmeans = KMeans(n_clusters=2)\n",
    "\n",
    "pipeline_normalized = make_pipeline(normalizer, kmeans)\n",
    "pipeline_normalized.fit(df_noclass)\n",
    "\n",
    "labels_normalized = pipeline_normalized.predict(df_noclass)\n",
    "print('\\n\\n normalized_counts:\\n', pd.value_counts(labels_normalized)) #how many of each class\n",
    "print('\\n\\n labels_normalized:\\n',labels_normalized)\n",
    "\n",
    "#compare to non-normalized data with k=2\n",
    "model_k2 = KMeans(n_clusters = 2)\n",
    "model_k2.fit(df_noclass) \n",
    "labels_k2 = model_k2.predict(df_noclass)\n",
    "print('\\n\\n labels_k2_counts:\\n', pd.value_counts(labels_k2)) \n",
    "print('\\n\\n labels_k2:\\n',labels_k2)\n",
    "\n",
    "print('\\n\\n labels_k4_counts:\\n', pd.value_counts(labels_k4))\n",
    "print('\\n\\n labels_k4: \\n', labels_k4)"
   ]
  },
  {
   "cell_type": "code",
   "execution_count": 28,
   "metadata": {},
   "outputs": [
    {
     "name": "stdout",
     "output_type": "stream",
     "text": [
      "<class 'sklearn.pipeline.Pipeline'>\n",
      "Pipeline(memory=None,\n",
      "     steps=[('standardscaler', StandardScaler(copy=True, with_mean=True, with_std=True)), ('kmeans', KMeans(algorithm='auto', copy_x=True, init='k-means++', max_iter=500,\n",
      "    n_clusters=2, n_init=20, n_jobs=1, precompute_distances='auto',\n",
      "    random_state=None, tol=0.0001, verbose=0))])\n",
      "<class 'sklearn.pipeline.Pipeline'>\n",
      "Pipeline(memory=None,\n",
      "     steps=[('normalizer', Normalizer(copy=True, norm='l2')), ('kmeans', KMeans(algorithm='auto', copy_x=True, init='k-means++', max_iter=300,\n",
      "    n_clusters=2, n_init=10, n_jobs=1, precompute_distances='auto',\n",
      "    random_state=None, tol=0.0001, verbose=0))])\n"
     ]
    }
   ],
   "source": [
    "print(type(pipeline_scaled)) \n",
    "print(pipeline_scaled)\n",
    "\n",
    "print(type(pipeline_normalized)) \n",
    "print(pipeline_normalized)"
   ]
  },
  {
   "cell_type": "markdown",
   "metadata": {},
   "source": [
    "# Phase 3\n",
    "due December 9, 2018 @ 11:59 PM EST"
   ]
  },
  {
   "cell_type": "markdown",
   "metadata": {},
   "source": [
    "# Phase 3.1:  Cluster - 5pts\n",
    "\n",
    "Note: continue working with the same data from Phase 1\n",
    "    \n",
    "Steps:\n",
    "\n",
    "1. Change iteration to 500 and initial centroids to 20\n",
    "\n",
    "The default values in KMeans are n_init=10 and max_iter=300. This means the initial centroids will be chosen 10 times, and each run will use up to 300 iterations. The best out of those 10 runs will be the final result. https://scikit-learn.org/stable/modules/generated/sklearn.cluster.KMeans.html (Links to an external site.)Links to an external site.\n",
    "\n",
    "2. Run Kmeans with n_clusters = 2\n",
    "\n",
    "3. Save predicted clusters into a variable labels"
   ]
  },
  {
   "cell_type": "code",
   "execution_count": 29,
   "metadata": {},
   "outputs": [
    {
     "name": "stdout",
     "output_type": "stream",
     "text": [
      "[0 1 0 1 0 1 0 0 0 0 0 0 0 0 1 0 0 0 1 0 1 1 0 0 0 0 0 0 0 0 0 0 1 0 0 0 1\n",
      " 0 1 1 1 1 1 1 1 0 1 0 0 1 0 0 1 1 1 1 1 0 1 0 1 0 1 0 0 0 0 1 1 0 0 1 0 1\n",
      " 1 0 0 0 0 0 0 0 0 0 1 1 1 1 0 0 0 0 0 0 0 0 0 0 1 1 1 0 0 0 1 0 1 1 0 1 0\n",
      " 1 1 1 0 0 0 1 0 0 0 0 1 1 1 0 1 0 1 0 0 0 1 0 0 0 0 0 0 0 0 0 1 0 0 0 1 0\n",
      " 0 1 0 1 1 0 0 1 0 0 0 1 1 0 0 0 0 0 1 1 0 0 0 0 0 1 1 1 0 1 0 1 0 0 0 1 1\n",
      " 0 1 1 1 0 1 1 0 0 0 0 1 0 0 0 1 1 0 0 0 1 1 0 0 0 1 1 0 1 1 1 0 0 1 0 0 1\n",
      " 0 1 1 0 1 1 0 1 1 1 0 1 0 0 1 1 1 1 0 0 0 0 0 0 1 1 0 0 0 1 1 1 1 1 0 0 0\n",
      " 1 1 1 1 1 1 0 1 1 1 0 1 0 1 0 0 0 0 0 0 1 0 0 1 1 1 1 1 0 1 1 0 0 1 1 0 1\n",
      " 1 0 0 1 1 0 1 0 1 1 0 0 1 0 0 0 1 0 0 1 1 1 0 1 1 0 0 1 0 0 1 0 1 1 1 0 0\n",
      " 1 1 0 1 0 0 1 1 0 0 0 1 0 0 0 0 1 0 0 1 1 0 0 0 1 1 1 1 1 0 0 0 0 1 1 0 0\n",
      " 0 0 0 0 0 0 0 0 0 0 0 1 0 0 0 0 1 0 0 0 0 1 0 0 0 0 0 0 0 0 1 0 0 0 0 0 0\n",
      " 0 0 0 0 0 1 0 1 0 1 0 0 0 0 1 0 0 0 1 0 1 0 0 0 0 0 0 1 1 1 0 0 0 1 0 0 0\n",
      " 0 0 0 0 0 1 0 0 0 1 0 0 1 1 0 0 0 0 0 0 0 1 1 1 0 0 0 0 0 0 0 0 0 0 0 1 0\n",
      " 0 1 1 0 0 0 1 1 0 0 1 0 1 0 0 0 0 0 0 0 0 0 0 0 0 1 0 0 0 0 0 0 0 1 1 0 0\n",
      " 0 1 0 0 1 1 0 0 0 0 0 0 1 0 0 0 0 0 0 0 0 0 0 0 0 0 0 0 1 0 0 1 0 0 0 0 0\n",
      " 0 0 0 0 0 0 0 0 0 0 1 0 0 1 1 1 1 0 0 1 0 0 0 0 0 0 1 1 0 0 0 1 0 1 0 1 1\n",
      " 1 0 1 0 0 0 0 0 0 0 0 1 1 1 0 0 1 0 1 1 1 0 0 0 0 0 0 0 0 0 0 0 0 0 1 0 0\n",
      " 0 0 0 0 1 0 0 1 0 0 0 0 0 0 0 0 0 0 0 1 0 0 0 0 0 0 0 0 0 1 0 0 0 0 0 0 0\n",
      " 0 0 1 1 1 0 0 0 0 0 0 0 0 0 1 1 0 0 0 0 0 0 0 0 0 1 0 0 0 0 1 1 1]\n"
     ]
    }
   ],
   "source": [
    "model_20centroids = KMeans(n_clusters=2, n_init=20, max_iter=500)\n",
    "model_20centroids.fit(df_noclass) \n",
    "labels_20centroids = model_20centroids.predict(df_noclass)\n",
    "\n",
    "print(labels_20centroids)"
   ]
  },
  {
   "cell_type": "markdown",
   "metadata": {},
   "source": [
    "# Phase 3.2: DataFrame - 5pts\n",
    "\n",
    "Steps:\n",
    "1. Create a new column in your dataframe and add Kmeans labels.\n",
    "2. Change labels values so that 0 becomes 2 and 1 becomes 4.\n",
    "3. Print the first 15 records from your dataframe"
   ]
  },
  {
   "cell_type": "code",
   "execution_count": 30,
   "metadata": {},
   "outputs": [
    {
     "name": "stdout",
     "output_type": "stream",
     "text": [
      "\n",
      " (rows , columns): (699, 4)\n",
      "\n",
      "     Raw_K2  Scaled  Norm  True_CLASS\n",
      "0        2       4     4           2\n",
      "1        4       2     2           2\n",
      "2        2       4     4           2\n",
      "3        4       2     2           2\n",
      "4        2       4     4           2\n",
      "5        4       2     2           4\n",
      "6        2       4     2           2\n",
      "7        2       4     2           2\n",
      "8        2       4     2           2\n",
      "9        2       4     4           2\n",
      "10       2       4     2           2\n",
      "11       2       4     2           2\n",
      "12       2       4     2           4\n",
      "13       2       4     2           2\n",
      "14       4       2     2           4\n"
     ]
    }
   ],
   "source": [
    "#convert arrays to dataframes\n",
    "df_labels_k2 = pd.DataFrame(labels_20centroids)\n",
    "\n",
    "df_labels_k2_switched = df_labels_k2.replace({0:1, 1:0})\n",
    "#need to switch originals as they are going to different cluster (1) than the scaled & normalized clusters\n",
    "#switch all 0 to 1, and all 1 to 0\n",
    "\n",
    "df_labels_scaled = pd.DataFrame(labels_scaled)\n",
    "df_labels_normalized = pd.DataFrame(labels_normalized)\n",
    "\n",
    "df_class = df_clean.loc[:,'CLASS'] #grab the CLASS column as the TRUE POSITIVE\n",
    "df_class_switched = df_class.replace({2:0, 4:1})\n",
    "# change CLASS column to agree 0 or 1, if wanting to do this as logical (0=healthy, 1=disease)\n",
    "# replace 2 with 0 (benign) and replace 4 with 1 (malignant)\n",
    "\n",
    "#concat dataframes on axis 1\n",
    "df_merge = pd.concat([df_labels_k2, df_labels_scaled, df_labels_normalized, df_class_switched], axis = 1)\n",
    "df_merge.columns = ['Raw_K2', 'Scaled', 'Norm', 'True_CLASS'] # name columns\n",
    "\n",
    "# Change labels values so that 0 becomes 2 and 1 becomes 4.\n",
    "df_merge_twofour = df_merge.replace({0:2, 1:4})\n",
    "\n",
    "print('\\n (rows , columns):', df_merge_twofour.shape) #should be 699 rows (patients) x 4 columns (classifiers)\n",
    "print('\\n', df_merge_twofour.head(15))\n",
    "#print(df_merge_twofour)\n",
    "\n",
    "# code sources: based on https://jakevdp.github.io/PythonDataScienceHandbook/03.06-concat-and-append.html"
   ]
  },
  {
   "cell_type": "code",
   "execution_count": 31,
   "metadata": {},
   "outputs": [
    {
     "name": "stdout",
     "output_type": "stream",
     "text": [
      "K2: Raw_K2  True_CLASS\n",
      "2       2             447\n",
      "        4              19\n",
      "4       4             222\n",
      "        2              11\n",
      "Name: True_CLASS, dtype: int64\n",
      "\n",
      " Scaled:\n",
      " Scaled  True_CLASS\n",
      "2       4             223\n",
      "        2              12\n",
      "4       2             446\n",
      "        4              18\n",
      "Name: True_CLASS, dtype: int64\n",
      "\n",
      " Normalized:\n",
      " Norm  True_CLASS\n",
      "2     2             217\n",
      "      4             208\n",
      "4     2             241\n",
      "      4              33\n",
      "Name: True_CLASS, dtype: int64\n",
      "\n",
      " True_CLASS:\n",
      " True_CLASS  True_CLASS\n",
      "2           2             458\n",
      "4           4             241\n",
      "Name: True_CLASS, dtype: int64\n"
     ]
    }
   ],
   "source": [
    "df_merge_twofour['Raw_K2'].value_counts()\n",
    "labels_class_k2 = df_merge_twofour.groupby('Raw_K2')['True_CLASS'].value_counts()\n",
    "print('K2:',labels_class_k2)\n",
    "\n",
    "df_merge_twofour['Scaled'].value_counts()\n",
    "labels_class_Scaled = df_merge_twofour.groupby('Scaled')['True_CLASS'].value_counts()\n",
    "print('\\n Scaled:\\n',labels_class_Scaled)\n",
    "\n",
    "df_merge_twofour['Norm'].value_counts()\n",
    "labels_class_Norm = df_merge_twofour.groupby('Norm')['True_CLASS'].value_counts()\n",
    "print('\\n Normalized:\\n',labels_class_Norm)\n",
    "\n",
    "df_merge_twofour['True_CLASS'].value_counts()\n",
    "labels_class = df_merge_twofour.groupby('True_CLASS')['True_CLASS'].value_counts()\n",
    "print('\\n True_CLASS:\\n',labels_class)"
   ]
  },
  {
   "cell_type": "code",
   "execution_count": 32,
   "metadata": {
    "scrolled": true
   },
   "outputs": [
    {
     "name": "stdout",
     "output_type": "stream",
     "text": [
      "size / shape of centroids2-object (rows, columns):\n",
      " (14, 9)\n",
      "type of centroids2-object:\n",
      " <class 'numpy.ndarray'>\n",
      "centroids2 min:\n",
      " 1.046242774566473\n",
      "centroids2 max:\n",
      " 9.692307692307693\n",
      "centroids2-array:\n",
      " [[1.78518519 1.11851852 1.18888889 1.13703704 1.97777778 1.31445149\n",
      "  2.01111111 1.06296296 1.07407407]\n",
      " [8.57692308 5.69230769 6.11538462 3.65384615 4.11538462 9.23076923\n",
      "  6.61538462 8.38461538 2.03846154]\n",
      " [5.28571429 8.5        6.85714286 7.42857143 5.21428571 4.46747542\n",
      "  7.21428571 4.35714286 1.85714286]\n",
      " [8.2        6.12       6.2        4.08       3.44       9.64\n",
      "  5.16       1.72       1.24      ]\n",
      " [4.60115607 1.3699422  1.56647399 1.46820809 2.05780347 1.26378016\n",
      "  2.04046243 1.27745665 1.04624277]\n",
      " [8.2        8.2        8.         2.4        8.8        8.\n",
      "  4.8        9.         8.6       ]\n",
      " [5.64864865 7.91891892 8.18918919 8.67567568 6.05405405 9.56756757\n",
      "  7.13513514 8.51351351 2.05405405]\n",
      " [4.78571429 3.64285714 4.28571429 2.78571429 4.57142857 9.07142857\n",
      "  4.35714286 3.92857143 1.39285714]\n",
      " [8.7        3.8        4.5        2.2        3.25       3.4772328\n",
      "  4.15       2.75       2.85      ]\n",
      " [5.17647059 4.         3.94117647 4.11764706 5.94117647 2.38497976\n",
      "  4.17647059 7.47058824 1.17647059]\n",
      " [8.26923077 8.96153846 8.34615385 4.34615385 5.34615385 3.32864061\n",
      "  6.23076923 8.92307692 1.92307692]\n",
      " [8.375      9.5        9.1875     4.375      9.25       9.3125\n",
      "  7.1875     3.         2.4375    ]\n",
      " [7.03846154 4.38461538 4.15384615 9.19230769 4.5        9.69230769\n",
      "  5.69230769 3.84615385 2.46153846]\n",
      " [8.125      9.5625     9.25       9.5625     7.875      7.1875\n",
      "  7.25       8.875      8.875     ]]\n"
     ]
    },
    {
     "data": {
      "image/png": "[encoded data removed]",
      "text/plain": [
       "<Figure size 432x288 with 1 Axes>"
      ]
     },
     "metadata": {
      "needs_background": "light"
     },
     "output_type": "display_data"
    },
    {
     "data": {
      "image/png": "[encoded data removed]",
      "text/plain": [
       "<Figure size 432x288 with 1 Axes>"
      ]
     },
     "metadata": {
      "needs_background": "light"
     },
     "output_type": "display_data"
    },
    {
     "data": {
      "image/png": "[encoded data removed]",
      "text/plain": [
       "<Figure size 432x288 with 1 Axes>"
      ]
     },
     "metadata": {
      "needs_background": "light"
     },
     "output_type": "display_data"
    },
    {
     "data": {
      "image/png": "[encoded data removed]",
      "text/plain": [
       "<Figure size 432x288 with 1 Axes>"
      ]
     },
     "metadata": {
      "needs_background": "light"
     },
     "output_type": "display_data"
    },
    {
     "data": {
      "image/png": "[encoded data removed]",
      "text/plain": [
       "<Figure size 432x288 with 1 Axes>"
      ]
     },
     "metadata": {
      "needs_background": "light"
     },
     "output_type": "display_data"
    },
    {
     "data": {
      "image/png": "[encoded data removed]",
      "text/plain": [
       "<Figure size 432x288 with 1 Axes>"
      ]
     },
     "metadata": {
      "needs_background": "light"
     },
     "output_type": "display_data"
    },
    {
     "data": {
      "image/png": "[encoded data removed]",
      "text/plain": [
       "<Figure size 432x288 with 1 Axes>"
      ]
     },
     "metadata": {
      "needs_background": "light"
     },
     "output_type": "display_data"
    },
    {
     "data": {
      "image/png": "[encoded data removed]",
      "text/plain": [
       "<Figure size 432x288 with 1 Axes>"
      ]
     },
     "metadata": {
      "needs_background": "light"
     },
     "output_type": "display_data"
    },
    {
     "name": "stdout",
     "output_type": "stream",
     "text": [
      "centroids:\n",
      " [[2.94493392 1.24449339 1.36563877 1.29295154 2.03964758 1.3514006\n",
      "  2.06167401 1.20044053 1.07709251]\n",
      " [7.46478873 7.02816901 6.67605634 4.1971831  5.53521127 3.45322005\n",
      "  5.38028169 6.81690141 2.30985915]\n",
      " [7.23404255 4.85106383 5.04255319 4.86170213 4.11702128 9.38297872\n",
      "  5.26595745 3.78723404 1.64893617]\n",
      " [6.7625     8.3875     8.425      7.75       6.775      9.2125\n",
      "  7.375      7.7375     3.7875    ]] \n",
      "\n",
      " centroids_normalized:\n",
      "\n",
      " [[1.78518519 1.11851852 1.18888889 1.13703704 1.97777778 1.31445149\n",
      "  2.01111111 1.06296296 1.07407407]\n",
      " [8.57692308 5.69230769 6.11538462 3.65384615 4.11538462 9.23076923\n",
      "  6.61538462 8.38461538 2.03846154]\n",
      " [5.28571429 8.5        6.85714286 7.42857143 5.21428571 4.46747542\n",
      "  7.21428571 4.35714286 1.85714286]\n",
      " [8.2        6.12       6.2        4.08       3.44       9.64\n",
      "  5.16       1.72       1.24      ]\n",
      " [4.60115607 1.3699422  1.56647399 1.46820809 2.05780347 1.26378016\n",
      "  2.04046243 1.27745665 1.04624277]\n",
      " [8.2        8.2        8.         2.4        8.8        8.\n",
      "  4.8        9.         8.6       ]\n",
      " [5.64864865 7.91891892 8.18918919 8.67567568 6.05405405 9.56756757\n",
      "  7.13513514 8.51351351 2.05405405]\n",
      " [4.78571429 3.64285714 4.28571429 2.78571429 4.57142857 9.07142857\n",
      "  4.35714286 3.92857143 1.39285714]\n",
      " [8.7        3.8        4.5        2.2        3.25       3.4772328\n",
      "  4.15       2.75       2.85      ]\n",
      " [5.17647059 4.         3.94117647 4.11764706 5.94117647 2.38497976\n",
      "  4.17647059 7.47058824 1.17647059]\n",
      " [8.26923077 8.96153846 8.34615385 4.34615385 5.34615385 3.32864061\n",
      "  6.23076923 8.92307692 1.92307692]\n",
      " [8.375      9.5        9.1875     4.375      9.25       9.3125\n",
      "  7.1875     3.         2.4375    ]\n",
      " [7.03846154 4.38461538 4.15384615 9.19230769 4.5        9.69230769\n",
      "  5.69230769 3.84615385 2.46153846]\n",
      " [8.125      9.5625     9.25       9.5625     7.875      7.1875\n",
      "  7.25       8.875      8.875     ]]\n"
     ]
    }
   ],
   "source": [
    "centroids2 = model.cluster_centers_\n",
    "print(\"size / shape of centroids2-object (rows, columns):\\n\", centroids2.shape)\n",
    "print(\"type of centroids2-object:\\n\",type(centroids))\n",
    "print(\"centroids2 min:\\n\", centroids2.min())\n",
    "print(\"centroids2 max:\\n\", centroids2.max())\n",
    "print('centroids2-array:\\n', centroids2)\n",
    "\n",
    "# data viz of centroids\n",
    "centroids2_0 = centroids2[0,:]\n",
    "centroids2_1 = centroids2[1,:]\n",
    "centroids2_2 = centroids2[2,:]\n",
    "centroids2_3 = centroids2[3,:]\n",
    "\n",
    "x = list(range(1,10))\n",
    "\n",
    "plt.scatter(centroids_0, x, marker = 'P', color = 'r', s=100)\n",
    "plt.title(\"Centroids_0\")\n",
    "plt.xlim([1, 10])\n",
    "plt.show()\n",
    "\n",
    "plt.scatter(centroids2_0, x, marker = 'P', color = 'r', s=100)\n",
    "plt.title(\"Centroids2_0 - normalized\")\n",
    "plt.xlim([1, 10])\n",
    "plt.show()\n",
    "\n",
    "plt.scatter(centroids_1, x, marker = 'D', color = 'y', s=100)\n",
    "plt.title(\"Centroids_1\")\n",
    "plt.xlim([1, 10])\n",
    "plt.show()\n",
    "\n",
    "plt.scatter(centroids2_1, x, marker = 'D', color = 'y', s=100)\n",
    "plt.title(\"Centroids2_1 normalized\")\n",
    "plt.xlim([1, 10])\n",
    "plt.show()\n",
    "\n",
    "plt.scatter(centroids_2, x, marker = 'o', color = 'g', s=100)\n",
    "plt.title(\"Centroids_2\")\n",
    "plt.xlim([1, 10])\n",
    "plt.show()\n",
    "plt.scatter(centroids2_2, x, marker = 'o', color = 'g', s=100)\n",
    "plt.title(\"Centroids2_2 Normalized\")\n",
    "plt.xlim([1, 10])\n",
    "plt.show()\n",
    "\n",
    "plt.scatter(centroids_3, x, marker = 's', color = 'b', s=100)\n",
    "plt.title(\"Centroids_3\")\n",
    "plt.xlim([1, 10])\n",
    "plt.show()\n",
    "plt.scatter(centroids2_3, x, marker = 's', color = 'b', s=100)\n",
    "plt.title(\"Centroids2_3 Normalized\")\n",
    "plt.xlim([1, 10])\n",
    "plt.show()\n",
    "\n",
    "print('centroids:\\n', centroids, '\\n\\n centroids_normalized:\\n\\n',centroids2)"
   ]
  },
  {
   "cell_type": "code",
   "execution_count": 33,
   "metadata": {
    "scrolled": true
   },
   "outputs": [],
   "source": [
    "#code from DataCamp \"unsupervised learning in python\" as giude source\n",
    "\n",
    "#labels = pipeline_scaled.predict(df_noclass)\n",
    "#df = pd.DataFrame({'labels': labels, 'A7': df_noclass['A7']})\n",
    "\n",
    "# Display df sorted by cluster label\n",
    "#print('cluster counts:\\n', pd.value_counts(labels)) #how many of each class\n",
    "#print(df.sort_values('labels'))"
   ]
  },
  {
   "cell_type": "markdown",
   "metadata": {},
   "source": [
    "# Phase 3.3: Error Rate Function - 15 pts\n",
    "Note: 2 - benign cells; 4 - malign cells\n",
    "\n",
    "1. Create a function\n",
    "\n",
    "Your ErrorRate function will take TWO input arguments. First argument is cluster you obtained from your k-means algorithm (column labels), and second argument is the actual value (column CLASS) of cluster for a particular datapoint. The output from your function will be 1) error rate for benign cells, 2) error rate for malign cells, 3) total error rate.\n",
    "\n",
    "Calculate error rate using the following formula for each clusters:\n",
    "\n",
    "error for benign cells B =\n",
    "total number of points with predicted labels = 4 that correspond to CLASS = 2 \n",
    "/ \n",
    "total number of predicted labels = 2 benign error\n",
    "\n",
    "\n",
    "error for malign cells M = \n",
    "total number of points with predicted labels = 2 that correspond to CLASS = 4 \n",
    "/ \n",
    "total number of predicted labels = 4 malign\n",
    "\n",
    "\n",
    "total error rate =\n",
    "total number of datapoints with predicted labels (labels column) Not equal to actual class (CLASS column)\n",
    "/\n",
    "total number of datapoints\n",
    "\n",
    "total\n",
    "\n",
    "2. Pass your columns values into function and print out the error rate values. You can add a descriptive text to your output. For example: \"error rate for benign: --, error rate for malign: --, total error rate: --\""
   ]
  },
  {
   "cell_type": "code",
   "execution_count": 34,
   "metadata": {
    "scrolled": false
   },
   "outputs": [],
   "source": [
    "def error_rate(predicted, true_class):\n",
    "    \"\"\"returns the error rates (False Positives & False Negatives) for \n",
    "    two clusters (label) arrays / dataframes. Takes two inputs, 1) TEST_PREDICTIONS and 2) TRUE_CALLS as arguements.\"\"\"\n",
    " \n",
    "    #initialize counters\n",
    "    True_Neg_Count, True_Pos_Count, False_Neg_Count, False_Pos_Count = 0,0,0,0\n",
    "\n",
    "    for call in range(0,699):\n",
    "        if predicted[call] == 2: #print('Pred= B')\n",
    "            if true_class[call] == 2: #print('True= B'), print('->>True_NEG \\n')\n",
    "                True_Neg_Count += 1\n",
    "            elif true_class[call] ==4: #print(' *** False_NEG: (Pred=B / True=M)')\n",
    "                False_Neg_Count += 1\n",
    "        \n",
    "        elif predicted[call] == 4: #print('Pred= M')\n",
    "            if true_class[call] == 4: #print('True= M'), #print('->>True_POS \\n')\n",
    "                True_Pos_Count += 1\n",
    "            elif true_class[call] == 2: #print('True= B'), #print(' *** False_Pos: Pred=M / True=B')\n",
    "                False_Pos_Count += 1\n",
    "                \n",
    "    return(True_Neg_Count, True_Pos_Count, False_Neg_Count, False_Pos_Count)"
   ]
  },
  {
   "cell_type": "code",
   "execution_count": 35,
   "metadata": {
    "scrolled": false
   },
   "outputs": [
    {
     "name": "stdout",
     "output_type": "stream",
     "text": [
      "ERROR RATES\n",
      "***********\n",
      "benign error rate =\n",
      " 2.36 %\n",
      "\n",
      "malignant error rate =\n",
      " 8.15 %\n",
      "\n",
      "total error rate = \n",
      " 4.29 %\n",
      "\n"
     ]
    }
   ],
   "source": [
    "Errors = error_rate(df_merge_twofour['Raw_K2'],df_merge_twofour['True_CLASS'])\n",
    "\n",
    "TN = Errors[0]\n",
    "TP = Errors[1]\n",
    "FN = Errors[2]\n",
    "FP = Errors[3]\n",
    "\n",
    "predicted_B = (df_merge_twofour.Raw_K2.value_counts())\n",
    "# hard coding 466 (benign) & 233 Malignent\n",
    "\n",
    "benign_error = round((FP / 466)*100,2)\n",
    "malignant_error = round((FN / 233)*100,2)\n",
    "total_error = round(((FP + FN) / len(df_merge_twofour))*100,2) #len(df_merge_twofour)\n",
    "\n",
    "print('ERROR RATES')\n",
    "print('***********')\n",
    "print('benign error rate =\\n', benign_error, '%\\n')\n",
    "print('malignant error rate =\\n', malignant_error, '%\\n')\n",
    "print('total error rate = \\n', total_error, '%\\n')"
   ]
  },
  {
   "cell_type": "markdown",
   "metadata": {},
   "source": [
    "# Extra Stats: \n",
    "This seciton will calcualte other vlues using the error_rate function. Specifically using True Pos / False Pos / True Neg / False Neg:\n",
    "- for clinical folks who need PPV, NPV\n",
    "- for DataSci folks & researchers needing Sensitivity, Specificity\n",
    "- producing AUC / ROC curves using precision / recall"
   ]
  },
  {
   "cell_type": "code",
   "execution_count": 36,
   "metadata": {},
   "outputs": [
    {
     "name": "stdout",
     "output_type": "stream",
     "text": [
      "Base calculations [True|False] [Positives|Negatives] (TP, FP, TN, FN)\n",
      "*****************************************************\n",
      "447 | TN | True Negatives (Predicted & True = Benign)\n",
      "222 | TP | True Positives (Predicted & True = Malignant)\n",
      "\n",
      "19 | FN | False Negatives (Predicted=Benign != True=Malignant)\n",
      "11 | FP | False Positives (Predicted=Malignant != True=Benign)\n",
      "\n",
      "Value counts of Predicted (2=Benign, 4=Malignant)\n",
      "2    466\n",
      "4    233\n",
      "Name: Raw_K2, dtype: int64\n",
      "\n",
      "\n",
      "EXTRA STATS:\n",
      "\n",
      "\n",
      "Positive Predictive Value, Negative Predictive Value, Sensitivity & Specificity\n",
      "*******************************************************************************\n",
      "PPV | Positive Predictive Value (TP / (TP + FP)) = \n",
      " 95.28 %\n",
      "\n",
      "NPV | Negative Predictive Value (TN / (FN + TN)) = \n",
      " 95.92 %\n",
      "\n",
      "Sensitivity | (TP / (TP + FN) = \n",
      " 92.12 %\n",
      "\n",
      "Specificity | (TN / (FP + TN) = \n",
      " 97.6 %\n",
      "\n"
     ]
    }
   ],
   "source": [
    "print('Base calculations [True|False] [Positives|Negatives] (TP, FP, TN, FN)')\n",
    "print('*****************************************************')\n",
    "print(TN, '| TN | True Negatives (Predicted & True = Benign)')\n",
    "print(TP, '| TP | True Positives (Predicted & True = Malignant)')\n",
    "print()\n",
    "print(FN, '| FN | False Negatives (Predicted=Benign != True=Malignant)')\n",
    "print(FP, '| FP | False Positives (Predicted=Malignant != True=Benign)')\n",
    "print('\\nValue counts of Predicted (2=Benign, 4=Malignant)')\n",
    "print(predicted_B)\n",
    "      \n",
    "# Extra statistics for PPV, NPV, Sensitivity & Specificity\n",
    "print('\\n\\nEXTRA STATS:\\n\\n')\n",
    "print('Positive Predictive Value, Negative Predictive Value, Sensitivity & Specificity')\n",
    "print('*******************************************************************************')\n",
    "PPV = round((TP / (TP + FP)*100),2)\n",
    "NPV = round((TN / (FN + TN))*100,2)\n",
    "Sensitivity = round(TP / (TP + FN)*100,2)\n",
    "Specificity = round(TN / (FP + TN)*100,2)\n",
    "\n",
    "\n",
    "print(\"PPV | Positive Predictive Value (TP / (TP + FP)) = \\n\", PPV, '%\\n')\n",
    "print('NPV | Negative Predictive Value (TN / (FN + TN)) = \\n', NPV, '%\\n')\n",
    "print('Sensitivity | (TP / (TP + FN) = \\n', Sensitivity, '%\\n')\n",
    "print('Specificity | (TN / (FP + TN) = \\n', Specificity, '%\\n')"
   ]
  },
  {
   "cell_type": "code",
   "execution_count": 37,
   "metadata": {},
   "outputs": [
    {
     "name": "stdout",
     "output_type": "stream",
     "text": [
      "2    466\n",
      "4    233\n",
      "Name: Raw_K2, dtype: int64\n",
      "8.15\n",
      "2.36\n",
      "4.29\n"
     ]
    }
   ],
   "source": [
    "print(predicted_B)\n",
    "print(malignant_error)\n",
    "print(benign_error)\n",
    "print(total_error)\n",
    "#len(df_merge_twofour)"
   ]
  },
  {
   "cell_type": "markdown",
   "metadata": {},
   "source": [
    "# Phase 3.4: Report - 5pts\n",
    "\n",
    "Add your report statement (~150-200 words): your reflection on the final project results (Note - the aim of the final project is NOT to build an optimal model but to practice the workflow using python - so your results may not be the best.)"
   ]
  },
  {
   "cell_type": "markdown",
   "metadata": {},
   "source": [
    "In our group reflections of this project (& class), the three members observe and reflect the following:\n",
    "- Group creation: Assigning roles was straightforward. We each discussed our status (year in the IU DS program), job responsibilities, backgrounds, etc. and arrived at best fits for specific roles. Elena Kirzhner: Data Manager, GitHub setup & lead; Tristen O'Brien: Project manager & final submission of files, version control; Sidd Pratap: Medical Data & Research summarization for original dataset and publication.\n",
    "- Data cleaning was most time-consuming task. Our solution was each person do individual coding & consolidated codes on the pre-submission phase.\n",
    "- On-line experience: Having all on-line students from Indiana, Tennessee, & California gave us no opportunity of face-to-face time, this was an issue. Our working solution was to use Google Hangouts as a video chat meeting time, which consisted of after-work meetings (typically weeknights @9:00pm EST for coding & debugging, and also Weekends for consolidation & submission of deliverables.\n",
    "- Course Relevance: The exercise of using KMeans of a biomedical dataset was useful because is real world data applied to a beginning level coding class. We all have generally positive experience of the use of DataCamp modules in teaching some content, also with a caveat that regular usage is critical to learn & maintain coding skills. We all feel that this course will be very useful for later courses in the Data Science Program.\n",
    "- Future Suggestions for this course:  We also respectfully suggest that it may be helpful to have a live-hangout type forum with TAs and especially with the Lead instructor as a “monthly live hangout” in order to alleviate the “on-line distance effect” of not having direct contact with the class & instructors. \n",
    "\n"
   ]
  }
 ],
 "metadata": {
  "kernelspec": {
   "display_name": "Python 3",
   "language": "python",
   "name": "python3"
  },
  "language_info": {
   "codemirror_mode": {
    "name": "ipython",
    "version": 3
   },
   "file_extension": ".py",
   "mimetype": "text/x-python",
   "name": "python",
   "nbconvert_exporter": "python",
   "pygments_lexer": "ipython3",
   "version": "3.7.0"
  }
 },
 "nbformat": 4,
 "nbformat_minor": 2
}
